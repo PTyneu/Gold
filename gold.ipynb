{
 "cells": [
  {
   "cell_type": "markdown",
   "metadata": {
    "toc": true
   },
   "source": [
    "<h1>Содержание<span class=\"tocSkip\"></span></h1>\n",
    "<div class=\"toc\"><ul class=\"toc-item\"><li><span><a href=\"#Подготовка-данных\" data-toc-modified-id=\"Подготовка-данных-1\"><span class=\"toc-item-num\">1&nbsp;&nbsp;</span>Подготовка данных</a></span></li><li><span><a href=\"#Анализ-данных\" data-toc-modified-id=\"Анализ-данных-2\"><span class=\"toc-item-num\">2&nbsp;&nbsp;</span>Анализ данных</a></span></li><li><span><a href=\"#Модель\" data-toc-modified-id=\"Модель-3\"><span class=\"toc-item-num\">3&nbsp;&nbsp;</span>Модель</a></span></li><li><span><a href=\"#Чек-лист-готовности-проекта\" data-toc-modified-id=\"Чек-лист-готовности-проекта-4\"><span class=\"toc-item-num\">4&nbsp;&nbsp;</span>Чек-лист готовности проекта</a></span></li></ul></div>"
   ]
  },
  {
   "cell_type": "markdown",
   "metadata": {},
   "source": [
    "# Восстановление золота из руды"
   ]
  },
  {
   "cell_type": "markdown",
   "metadata": {},
   "source": [
    "Подготовьте прототип модели машинного обучения для «Цифры». Компания разрабатывает решения для эффективной работы промышленных предприятий.\n",
    "\n",
    "Модель должна предсказать коэффициент восстановления золота из золотосодержащей руды. Используйте данные с параметрами добычи и очистки. \n",
    "\n",
    "Модель поможет оптимизировать производство, чтобы не запускать предприятие с убыточными характеристиками.\n",
    "\n",
    "Вам нужно:\n",
    "\n",
    "1. Подготовить данные;\n",
    "2. Провести исследовательский анализ данных;\n",
    "3. Построить и обучить модель.\n",
    "\n",
    "Чтобы выполнить проект, обращайтесь к библиотекам *pandas*, *matplotlib* и *sklearn.* Вам поможет их документация."
   ]
  },
  {
   "cell_type": "markdown",
   "metadata": {},
   "source": [
    "## Подготовка данных"
   ]
  },
  {
   "cell_type": "code",
   "execution_count": 1,
   "metadata": {},
   "outputs": [],
   "source": [
    "import pandas as pd\n",
    "import numpy as np\n",
    "import seaborn as sns\n",
    "import matplotlib.pyplot as plt\n",
    "from sklearn.metrics import mean_absolute_error\n",
    "from sklearn.linear_model import LinearRegression\n",
    "from sklearn.tree import DecisionTreeRegressor\n",
    "from sklearn.model_selection import cross_val_score\n",
    "from sklearn.ensemble import RandomForestRegressor\n",
    "from sklearn.model_selection import cross_val_score"
   ]
  },
  {
   "cell_type": "code",
   "execution_count": 2,
   "metadata": {},
   "outputs": [
    {
     "name": "stdout",
     "output_type": "stream",
     "text": [
      "date                                          0.0\n",
      "final.output.concentrate_ag                   0.0\n",
      "final.output.concentrate_pb                   0.0\n",
      "final.output.concentrate_sol                  0.0\n",
      "final.output.concentrate_au                   0.0\n",
      "                                             ... \n",
      "secondary_cleaner.state.floatbank5_a_level    0.0\n",
      "secondary_cleaner.state.floatbank5_b_air      0.0\n",
      "secondary_cleaner.state.floatbank5_b_level    0.0\n",
      "secondary_cleaner.state.floatbank6_a_air      0.0\n",
      "secondary_cleaner.state.floatbank6_a_level    0.0\n",
      "Length: 87, dtype: float64\n"
     ]
    }
   ],
   "source": [
    "df_train=pd.read_csv('/datasets/gold_recovery_train_new.csv')\n",
    "df_train_clear=df_train.fillna(value=None, method=\"ffill\") \n",
    "df_train_clear\n",
    "print(df_train_clear.isna().sum()*100/len(df_train))"
   ]
  },
  {
   "cell_type": "code",
   "execution_count": 3,
   "metadata": {},
   "outputs": [
    {
     "data": {
      "text/html": [
       "<div>\n",
       "<style scoped>\n",
       "    .dataframe tbody tr th:only-of-type {\n",
       "        vertical-align: middle;\n",
       "    }\n",
       "\n",
       "    .dataframe tbody tr th {\n",
       "        vertical-align: top;\n",
       "    }\n",
       "\n",
       "    .dataframe thead th {\n",
       "        text-align: right;\n",
       "    }\n",
       "</style>\n",
       "<table border=\"1\" class=\"dataframe\">\n",
       "  <thead>\n",
       "    <tr style=\"text-align: right;\">\n",
       "      <th></th>\n",
       "      <th>date</th>\n",
       "      <th>primary_cleaner.input.sulfate</th>\n",
       "      <th>primary_cleaner.input.depressant</th>\n",
       "      <th>primary_cleaner.input.feed_size</th>\n",
       "      <th>primary_cleaner.input.xanthate</th>\n",
       "      <th>primary_cleaner.state.floatbank8_a_air</th>\n",
       "      <th>primary_cleaner.state.floatbank8_a_level</th>\n",
       "      <th>primary_cleaner.state.floatbank8_b_air</th>\n",
       "      <th>primary_cleaner.state.floatbank8_b_level</th>\n",
       "      <th>primary_cleaner.state.floatbank8_c_air</th>\n",
       "      <th>...</th>\n",
       "      <th>secondary_cleaner.state.floatbank4_a_air</th>\n",
       "      <th>secondary_cleaner.state.floatbank4_a_level</th>\n",
       "      <th>secondary_cleaner.state.floatbank4_b_air</th>\n",
       "      <th>secondary_cleaner.state.floatbank4_b_level</th>\n",
       "      <th>secondary_cleaner.state.floatbank5_a_air</th>\n",
       "      <th>secondary_cleaner.state.floatbank5_a_level</th>\n",
       "      <th>secondary_cleaner.state.floatbank5_b_air</th>\n",
       "      <th>secondary_cleaner.state.floatbank5_b_level</th>\n",
       "      <th>secondary_cleaner.state.floatbank6_a_air</th>\n",
       "      <th>secondary_cleaner.state.floatbank6_a_level</th>\n",
       "    </tr>\n",
       "  </thead>\n",
       "  <tbody>\n",
       "    <tr>\n",
       "      <td>0</td>\n",
       "      <td>2016-09-01 00:59:59</td>\n",
       "      <td>210.800909</td>\n",
       "      <td>14.993118</td>\n",
       "      <td>8.080000</td>\n",
       "      <td>1.005021</td>\n",
       "      <td>1398.981301</td>\n",
       "      <td>-500.225577</td>\n",
       "      <td>1399.144926</td>\n",
       "      <td>-499.919735</td>\n",
       "      <td>1400.102998</td>\n",
       "      <td>...</td>\n",
       "      <td>12.023554</td>\n",
       "      <td>-497.795834</td>\n",
       "      <td>8.016656</td>\n",
       "      <td>-501.289139</td>\n",
       "      <td>7.946562</td>\n",
       "      <td>-432.317850</td>\n",
       "      <td>4.872511</td>\n",
       "      <td>-500.037437</td>\n",
       "      <td>26.705889</td>\n",
       "      <td>-499.709414</td>\n",
       "    </tr>\n",
       "    <tr>\n",
       "      <td>1</td>\n",
       "      <td>2016-09-01 01:59:59</td>\n",
       "      <td>215.392455</td>\n",
       "      <td>14.987471</td>\n",
       "      <td>8.080000</td>\n",
       "      <td>0.990469</td>\n",
       "      <td>1398.777912</td>\n",
       "      <td>-500.057435</td>\n",
       "      <td>1398.055362</td>\n",
       "      <td>-499.778182</td>\n",
       "      <td>1396.151033</td>\n",
       "      <td>...</td>\n",
       "      <td>12.058140</td>\n",
       "      <td>-498.695773</td>\n",
       "      <td>8.130979</td>\n",
       "      <td>-499.634209</td>\n",
       "      <td>7.958270</td>\n",
       "      <td>-525.839648</td>\n",
       "      <td>4.878850</td>\n",
       "      <td>-500.162375</td>\n",
       "      <td>25.019940</td>\n",
       "      <td>-499.819438</td>\n",
       "    </tr>\n",
       "    <tr>\n",
       "      <td>2</td>\n",
       "      <td>2016-09-01 02:59:59</td>\n",
       "      <td>215.259946</td>\n",
       "      <td>12.884934</td>\n",
       "      <td>7.786667</td>\n",
       "      <td>0.996043</td>\n",
       "      <td>1398.493666</td>\n",
       "      <td>-500.868360</td>\n",
       "      <td>1398.860436</td>\n",
       "      <td>-499.764529</td>\n",
       "      <td>1398.075709</td>\n",
       "      <td>...</td>\n",
       "      <td>11.962366</td>\n",
       "      <td>-498.767484</td>\n",
       "      <td>8.096893</td>\n",
       "      <td>-500.827423</td>\n",
       "      <td>8.071056</td>\n",
       "      <td>-500.801673</td>\n",
       "      <td>4.905125</td>\n",
       "      <td>-499.828510</td>\n",
       "      <td>24.994862</td>\n",
       "      <td>-500.622559</td>\n",
       "    </tr>\n",
       "    <tr>\n",
       "      <td>3</td>\n",
       "      <td>2016-09-01 03:59:59</td>\n",
       "      <td>215.336236</td>\n",
       "      <td>12.006805</td>\n",
       "      <td>7.640000</td>\n",
       "      <td>0.863514</td>\n",
       "      <td>1399.618111</td>\n",
       "      <td>-498.863574</td>\n",
       "      <td>1397.440120</td>\n",
       "      <td>-499.211024</td>\n",
       "      <td>1400.129303</td>\n",
       "      <td>...</td>\n",
       "      <td>12.033091</td>\n",
       "      <td>-498.350935</td>\n",
       "      <td>8.074946</td>\n",
       "      <td>-499.474407</td>\n",
       "      <td>7.897085</td>\n",
       "      <td>-500.868509</td>\n",
       "      <td>4.931400</td>\n",
       "      <td>-499.963623</td>\n",
       "      <td>24.948919</td>\n",
       "      <td>-498.709987</td>\n",
       "    </tr>\n",
       "    <tr>\n",
       "      <td>4</td>\n",
       "      <td>2016-09-01 04:59:59</td>\n",
       "      <td>199.099327</td>\n",
       "      <td>10.682530</td>\n",
       "      <td>7.530000</td>\n",
       "      <td>0.805575</td>\n",
       "      <td>1401.268123</td>\n",
       "      <td>-500.808305</td>\n",
       "      <td>1398.128818</td>\n",
       "      <td>-499.504543</td>\n",
       "      <td>1402.172226</td>\n",
       "      <td>...</td>\n",
       "      <td>12.025367</td>\n",
       "      <td>-500.786497</td>\n",
       "      <td>8.054678</td>\n",
       "      <td>-500.397500</td>\n",
       "      <td>8.107890</td>\n",
       "      <td>-509.526725</td>\n",
       "      <td>4.957674</td>\n",
       "      <td>-500.360026</td>\n",
       "      <td>25.003331</td>\n",
       "      <td>-500.856333</td>\n",
       "    </tr>\n",
       "    <tr>\n",
       "      <td>...</td>\n",
       "      <td>...</td>\n",
       "      <td>...</td>\n",
       "      <td>...</td>\n",
       "      <td>...</td>\n",
       "      <td>...</td>\n",
       "      <td>...</td>\n",
       "      <td>...</td>\n",
       "      <td>...</td>\n",
       "      <td>...</td>\n",
       "      <td>...</td>\n",
       "      <td>...</td>\n",
       "      <td>...</td>\n",
       "      <td>...</td>\n",
       "      <td>...</td>\n",
       "      <td>...</td>\n",
       "      <td>...</td>\n",
       "      <td>...</td>\n",
       "      <td>...</td>\n",
       "      <td>...</td>\n",
       "      <td>...</td>\n",
       "      <td>...</td>\n",
       "    </tr>\n",
       "    <tr>\n",
       "      <td>5285</td>\n",
       "      <td>2017-12-31 19:59:59</td>\n",
       "      <td>173.957757</td>\n",
       "      <td>15.963399</td>\n",
       "      <td>8.070000</td>\n",
       "      <td>0.896701</td>\n",
       "      <td>1401.930554</td>\n",
       "      <td>-499.728848</td>\n",
       "      <td>1401.441445</td>\n",
       "      <td>-499.193423</td>\n",
       "      <td>1399.810313</td>\n",
       "      <td>...</td>\n",
       "      <td>13.995957</td>\n",
       "      <td>-500.157454</td>\n",
       "      <td>12.069155</td>\n",
       "      <td>-499.673279</td>\n",
       "      <td>7.977259</td>\n",
       "      <td>-499.516126</td>\n",
       "      <td>5.933319</td>\n",
       "      <td>-499.965973</td>\n",
       "      <td>8.987171</td>\n",
       "      <td>-499.755909</td>\n",
       "    </tr>\n",
       "    <tr>\n",
       "      <td>5286</td>\n",
       "      <td>2017-12-31 20:59:59</td>\n",
       "      <td>172.910270</td>\n",
       "      <td>16.002605</td>\n",
       "      <td>8.070000</td>\n",
       "      <td>0.896519</td>\n",
       "      <td>1447.075722</td>\n",
       "      <td>-494.716823</td>\n",
       "      <td>1448.851892</td>\n",
       "      <td>-465.963026</td>\n",
       "      <td>1443.890424</td>\n",
       "      <td>...</td>\n",
       "      <td>16.749781</td>\n",
       "      <td>-496.031539</td>\n",
       "      <td>13.365371</td>\n",
       "      <td>-499.122723</td>\n",
       "      <td>9.288553</td>\n",
       "      <td>-496.892967</td>\n",
       "      <td>7.372897</td>\n",
       "      <td>-499.942956</td>\n",
       "      <td>8.986832</td>\n",
       "      <td>-499.903761</td>\n",
       "    </tr>\n",
       "    <tr>\n",
       "      <td>5287</td>\n",
       "      <td>2017-12-31 21:59:59</td>\n",
       "      <td>171.135718</td>\n",
       "      <td>15.993669</td>\n",
       "      <td>8.070000</td>\n",
       "      <td>1.165996</td>\n",
       "      <td>1498.836182</td>\n",
       "      <td>-501.770403</td>\n",
       "      <td>1499.572353</td>\n",
       "      <td>-495.516347</td>\n",
       "      <td>1502.749213</td>\n",
       "      <td>...</td>\n",
       "      <td>19.994130</td>\n",
       "      <td>-499.791312</td>\n",
       "      <td>15.101425</td>\n",
       "      <td>-499.936252</td>\n",
       "      <td>10.989181</td>\n",
       "      <td>-498.347898</td>\n",
       "      <td>9.020944</td>\n",
       "      <td>-500.040448</td>\n",
       "      <td>8.982038</td>\n",
       "      <td>-497.789882</td>\n",
       "    </tr>\n",
       "    <tr>\n",
       "      <td>5288</td>\n",
       "      <td>2017-12-31 22:59:59</td>\n",
       "      <td>179.697158</td>\n",
       "      <td>15.438979</td>\n",
       "      <td>8.070000</td>\n",
       "      <td>1.501068</td>\n",
       "      <td>1498.466243</td>\n",
       "      <td>-500.483984</td>\n",
       "      <td>1497.986986</td>\n",
       "      <td>-519.200340</td>\n",
       "      <td>1496.569047</td>\n",
       "      <td>...</td>\n",
       "      <td>19.958760</td>\n",
       "      <td>-499.958750</td>\n",
       "      <td>15.026853</td>\n",
       "      <td>-499.723143</td>\n",
       "      <td>11.011607</td>\n",
       "      <td>-499.985046</td>\n",
       "      <td>9.009783</td>\n",
       "      <td>-499.937902</td>\n",
       "      <td>9.012660</td>\n",
       "      <td>-500.154284</td>\n",
       "    </tr>\n",
       "    <tr>\n",
       "      <td>5289</td>\n",
       "      <td>2017-12-31 23:59:59</td>\n",
       "      <td>181.556856</td>\n",
       "      <td>14.995850</td>\n",
       "      <td>8.070000</td>\n",
       "      <td>1.623454</td>\n",
       "      <td>1498.096303</td>\n",
       "      <td>-499.796922</td>\n",
       "      <td>1501.743791</td>\n",
       "      <td>-505.146931</td>\n",
       "      <td>1499.535978</td>\n",
       "      <td>...</td>\n",
       "      <td>20.034715</td>\n",
       "      <td>-500.728588</td>\n",
       "      <td>14.914199</td>\n",
       "      <td>-499.948518</td>\n",
       "      <td>10.986607</td>\n",
       "      <td>-500.658027</td>\n",
       "      <td>8.989497</td>\n",
       "      <td>-500.337588</td>\n",
       "      <td>8.988632</td>\n",
       "      <td>-500.764937</td>\n",
       "    </tr>\n",
       "  </tbody>\n",
       "</table>\n",
       "<p>5290 rows × 53 columns</p>\n",
       "</div>"
      ],
      "text/plain": [
       "                     date  primary_cleaner.input.sulfate  \\\n",
       "0     2016-09-01 00:59:59                     210.800909   \n",
       "1     2016-09-01 01:59:59                     215.392455   \n",
       "2     2016-09-01 02:59:59                     215.259946   \n",
       "3     2016-09-01 03:59:59                     215.336236   \n",
       "4     2016-09-01 04:59:59                     199.099327   \n",
       "...                   ...                            ...   \n",
       "5285  2017-12-31 19:59:59                     173.957757   \n",
       "5286  2017-12-31 20:59:59                     172.910270   \n",
       "5287  2017-12-31 21:59:59                     171.135718   \n",
       "5288  2017-12-31 22:59:59                     179.697158   \n",
       "5289  2017-12-31 23:59:59                     181.556856   \n",
       "\n",
       "      primary_cleaner.input.depressant  primary_cleaner.input.feed_size  \\\n",
       "0                            14.993118                         8.080000   \n",
       "1                            14.987471                         8.080000   \n",
       "2                            12.884934                         7.786667   \n",
       "3                            12.006805                         7.640000   \n",
       "4                            10.682530                         7.530000   \n",
       "...                                ...                              ...   \n",
       "5285                         15.963399                         8.070000   \n",
       "5286                         16.002605                         8.070000   \n",
       "5287                         15.993669                         8.070000   \n",
       "5288                         15.438979                         8.070000   \n",
       "5289                         14.995850                         8.070000   \n",
       "\n",
       "      primary_cleaner.input.xanthate  primary_cleaner.state.floatbank8_a_air  \\\n",
       "0                           1.005021                             1398.981301   \n",
       "1                           0.990469                             1398.777912   \n",
       "2                           0.996043                             1398.493666   \n",
       "3                           0.863514                             1399.618111   \n",
       "4                           0.805575                             1401.268123   \n",
       "...                              ...                                     ...   \n",
       "5285                        0.896701                             1401.930554   \n",
       "5286                        0.896519                             1447.075722   \n",
       "5287                        1.165996                             1498.836182   \n",
       "5288                        1.501068                             1498.466243   \n",
       "5289                        1.623454                             1498.096303   \n",
       "\n",
       "      primary_cleaner.state.floatbank8_a_level  \\\n",
       "0                                  -500.225577   \n",
       "1                                  -500.057435   \n",
       "2                                  -500.868360   \n",
       "3                                  -498.863574   \n",
       "4                                  -500.808305   \n",
       "...                                        ...   \n",
       "5285                               -499.728848   \n",
       "5286                               -494.716823   \n",
       "5287                               -501.770403   \n",
       "5288                               -500.483984   \n",
       "5289                               -499.796922   \n",
       "\n",
       "      primary_cleaner.state.floatbank8_b_air  \\\n",
       "0                                1399.144926   \n",
       "1                                1398.055362   \n",
       "2                                1398.860436   \n",
       "3                                1397.440120   \n",
       "4                                1398.128818   \n",
       "...                                      ...   \n",
       "5285                             1401.441445   \n",
       "5286                             1448.851892   \n",
       "5287                             1499.572353   \n",
       "5288                             1497.986986   \n",
       "5289                             1501.743791   \n",
       "\n",
       "      primary_cleaner.state.floatbank8_b_level  \\\n",
       "0                                  -499.919735   \n",
       "1                                  -499.778182   \n",
       "2                                  -499.764529   \n",
       "3                                  -499.211024   \n",
       "4                                  -499.504543   \n",
       "...                                        ...   \n",
       "5285                               -499.193423   \n",
       "5286                               -465.963026   \n",
       "5287                               -495.516347   \n",
       "5288                               -519.200340   \n",
       "5289                               -505.146931   \n",
       "\n",
       "      primary_cleaner.state.floatbank8_c_air  ...  \\\n",
       "0                                1400.102998  ...   \n",
       "1                                1396.151033  ...   \n",
       "2                                1398.075709  ...   \n",
       "3                                1400.129303  ...   \n",
       "4                                1402.172226  ...   \n",
       "...                                      ...  ...   \n",
       "5285                             1399.810313  ...   \n",
       "5286                             1443.890424  ...   \n",
       "5287                             1502.749213  ...   \n",
       "5288                             1496.569047  ...   \n",
       "5289                             1499.535978  ...   \n",
       "\n",
       "      secondary_cleaner.state.floatbank4_a_air  \\\n",
       "0                                    12.023554   \n",
       "1                                    12.058140   \n",
       "2                                    11.962366   \n",
       "3                                    12.033091   \n",
       "4                                    12.025367   \n",
       "...                                        ...   \n",
       "5285                                 13.995957   \n",
       "5286                                 16.749781   \n",
       "5287                                 19.994130   \n",
       "5288                                 19.958760   \n",
       "5289                                 20.034715   \n",
       "\n",
       "      secondary_cleaner.state.floatbank4_a_level  \\\n",
       "0                                    -497.795834   \n",
       "1                                    -498.695773   \n",
       "2                                    -498.767484   \n",
       "3                                    -498.350935   \n",
       "4                                    -500.786497   \n",
       "...                                          ...   \n",
       "5285                                 -500.157454   \n",
       "5286                                 -496.031539   \n",
       "5287                                 -499.791312   \n",
       "5288                                 -499.958750   \n",
       "5289                                 -500.728588   \n",
       "\n",
       "      secondary_cleaner.state.floatbank4_b_air  \\\n",
       "0                                     8.016656   \n",
       "1                                     8.130979   \n",
       "2                                     8.096893   \n",
       "3                                     8.074946   \n",
       "4                                     8.054678   \n",
       "...                                        ...   \n",
       "5285                                 12.069155   \n",
       "5286                                 13.365371   \n",
       "5287                                 15.101425   \n",
       "5288                                 15.026853   \n",
       "5289                                 14.914199   \n",
       "\n",
       "      secondary_cleaner.state.floatbank4_b_level  \\\n",
       "0                                    -501.289139   \n",
       "1                                    -499.634209   \n",
       "2                                    -500.827423   \n",
       "3                                    -499.474407   \n",
       "4                                    -500.397500   \n",
       "...                                          ...   \n",
       "5285                                 -499.673279   \n",
       "5286                                 -499.122723   \n",
       "5287                                 -499.936252   \n",
       "5288                                 -499.723143   \n",
       "5289                                 -499.948518   \n",
       "\n",
       "      secondary_cleaner.state.floatbank5_a_air  \\\n",
       "0                                     7.946562   \n",
       "1                                     7.958270   \n",
       "2                                     8.071056   \n",
       "3                                     7.897085   \n",
       "4                                     8.107890   \n",
       "...                                        ...   \n",
       "5285                                  7.977259   \n",
       "5286                                  9.288553   \n",
       "5287                                 10.989181   \n",
       "5288                                 11.011607   \n",
       "5289                                 10.986607   \n",
       "\n",
       "      secondary_cleaner.state.floatbank5_a_level  \\\n",
       "0                                    -432.317850   \n",
       "1                                    -525.839648   \n",
       "2                                    -500.801673   \n",
       "3                                    -500.868509   \n",
       "4                                    -509.526725   \n",
       "...                                          ...   \n",
       "5285                                 -499.516126   \n",
       "5286                                 -496.892967   \n",
       "5287                                 -498.347898   \n",
       "5288                                 -499.985046   \n",
       "5289                                 -500.658027   \n",
       "\n",
       "      secondary_cleaner.state.floatbank5_b_air  \\\n",
       "0                                     4.872511   \n",
       "1                                     4.878850   \n",
       "2                                     4.905125   \n",
       "3                                     4.931400   \n",
       "4                                     4.957674   \n",
       "...                                        ...   \n",
       "5285                                  5.933319   \n",
       "5286                                  7.372897   \n",
       "5287                                  9.020944   \n",
       "5288                                  9.009783   \n",
       "5289                                  8.989497   \n",
       "\n",
       "      secondary_cleaner.state.floatbank5_b_level  \\\n",
       "0                                    -500.037437   \n",
       "1                                    -500.162375   \n",
       "2                                    -499.828510   \n",
       "3                                    -499.963623   \n",
       "4                                    -500.360026   \n",
       "...                                          ...   \n",
       "5285                                 -499.965973   \n",
       "5286                                 -499.942956   \n",
       "5287                                 -500.040448   \n",
       "5288                                 -499.937902   \n",
       "5289                                 -500.337588   \n",
       "\n",
       "      secondary_cleaner.state.floatbank6_a_air  \\\n",
       "0                                    26.705889   \n",
       "1                                    25.019940   \n",
       "2                                    24.994862   \n",
       "3                                    24.948919   \n",
       "4                                    25.003331   \n",
       "...                                        ...   \n",
       "5285                                  8.987171   \n",
       "5286                                  8.986832   \n",
       "5287                                  8.982038   \n",
       "5288                                  9.012660   \n",
       "5289                                  8.988632   \n",
       "\n",
       "      secondary_cleaner.state.floatbank6_a_level  \n",
       "0                                    -499.709414  \n",
       "1                                    -499.819438  \n",
       "2                                    -500.622559  \n",
       "3                                    -498.709987  \n",
       "4                                    -500.856333  \n",
       "...                                          ...  \n",
       "5285                                 -499.755909  \n",
       "5286                                 -499.903761  \n",
       "5287                                 -497.789882  \n",
       "5288                                 -500.154284  \n",
       "5289                                 -500.764937  \n",
       "\n",
       "[5290 rows x 53 columns]"
      ]
     },
     "execution_count": 3,
     "metadata": {},
     "output_type": "execute_result"
    }
   ],
   "source": [
    "df_test=pd.read_csv('/datasets/gold_recovery_test_new.csv')\n",
    "df_test=df_test.fillna(value=None, method=\"ffill\") \n",
    "df_test\n",
    "#print(df_test.isnull().sum()*100/len(df_test))"
   ]
  },
  {
   "cell_type": "code",
   "execution_count": 4,
   "metadata": {},
   "outputs": [
    {
     "data": {
      "text/html": [
       "<div>\n",
       "<style scoped>\n",
       "    .dataframe tbody tr th:only-of-type {\n",
       "        vertical-align: middle;\n",
       "    }\n",
       "\n",
       "    .dataframe tbody tr th {\n",
       "        vertical-align: top;\n",
       "    }\n",
       "\n",
       "    .dataframe thead th {\n",
       "        text-align: right;\n",
       "    }\n",
       "</style>\n",
       "<table border=\"1\" class=\"dataframe\">\n",
       "  <thead>\n",
       "    <tr style=\"text-align: right;\">\n",
       "      <th></th>\n",
       "      <th>date</th>\n",
       "      <th>final.output.concentrate_ag</th>\n",
       "      <th>final.output.concentrate_pb</th>\n",
       "      <th>final.output.concentrate_sol</th>\n",
       "      <th>final.output.concentrate_au</th>\n",
       "      <th>final.output.recovery</th>\n",
       "      <th>final.output.tail_ag</th>\n",
       "      <th>final.output.tail_pb</th>\n",
       "      <th>final.output.tail_sol</th>\n",
       "      <th>final.output.tail_au</th>\n",
       "      <th>...</th>\n",
       "      <th>secondary_cleaner.state.floatbank4_a_air</th>\n",
       "      <th>secondary_cleaner.state.floatbank4_a_level</th>\n",
       "      <th>secondary_cleaner.state.floatbank4_b_air</th>\n",
       "      <th>secondary_cleaner.state.floatbank4_b_level</th>\n",
       "      <th>secondary_cleaner.state.floatbank5_a_air</th>\n",
       "      <th>secondary_cleaner.state.floatbank5_a_level</th>\n",
       "      <th>secondary_cleaner.state.floatbank5_b_air</th>\n",
       "      <th>secondary_cleaner.state.floatbank5_b_level</th>\n",
       "      <th>secondary_cleaner.state.floatbank6_a_air</th>\n",
       "      <th>secondary_cleaner.state.floatbank6_a_level</th>\n",
       "    </tr>\n",
       "  </thead>\n",
       "  <tbody>\n",
       "    <tr>\n",
       "      <td>0</td>\n",
       "      <td>2016-01-15 00:00:00</td>\n",
       "      <td>6.055403</td>\n",
       "      <td>9.889648</td>\n",
       "      <td>5.507324</td>\n",
       "      <td>42.192020</td>\n",
       "      <td>70.541216</td>\n",
       "      <td>10.411962</td>\n",
       "      <td>0.895447</td>\n",
       "      <td>16.904297</td>\n",
       "      <td>2.143149</td>\n",
       "      <td>...</td>\n",
       "      <td>14.016835</td>\n",
       "      <td>-502.488007</td>\n",
       "      <td>12.099931</td>\n",
       "      <td>-504.715942</td>\n",
       "      <td>9.925633</td>\n",
       "      <td>-498.310211</td>\n",
       "      <td>8.079666</td>\n",
       "      <td>-500.470978</td>\n",
       "      <td>14.151341</td>\n",
       "      <td>-605.841980</td>\n",
       "    </tr>\n",
       "    <tr>\n",
       "      <td>1</td>\n",
       "      <td>2016-01-15 01:00:00</td>\n",
       "      <td>6.029369</td>\n",
       "      <td>9.968944</td>\n",
       "      <td>5.257781</td>\n",
       "      <td>42.701629</td>\n",
       "      <td>69.266198</td>\n",
       "      <td>10.462676</td>\n",
       "      <td>0.927452</td>\n",
       "      <td>16.634514</td>\n",
       "      <td>2.224930</td>\n",
       "      <td>...</td>\n",
       "      <td>13.992281</td>\n",
       "      <td>-505.503262</td>\n",
       "      <td>11.950531</td>\n",
       "      <td>-501.331529</td>\n",
       "      <td>10.039245</td>\n",
       "      <td>-500.169983</td>\n",
       "      <td>7.984757</td>\n",
       "      <td>-500.582168</td>\n",
       "      <td>13.998353</td>\n",
       "      <td>-599.787184</td>\n",
       "    </tr>\n",
       "    <tr>\n",
       "      <td>2</td>\n",
       "      <td>2016-01-15 02:00:00</td>\n",
       "      <td>6.055926</td>\n",
       "      <td>10.213995</td>\n",
       "      <td>5.383759</td>\n",
       "      <td>42.657501</td>\n",
       "      <td>68.116445</td>\n",
       "      <td>10.507046</td>\n",
       "      <td>0.953716</td>\n",
       "      <td>16.208849</td>\n",
       "      <td>2.257889</td>\n",
       "      <td>...</td>\n",
       "      <td>14.015015</td>\n",
       "      <td>-502.520901</td>\n",
       "      <td>11.912783</td>\n",
       "      <td>-501.133383</td>\n",
       "      <td>10.070913</td>\n",
       "      <td>-500.129135</td>\n",
       "      <td>8.013877</td>\n",
       "      <td>-500.517572</td>\n",
       "      <td>14.028663</td>\n",
       "      <td>-601.427363</td>\n",
       "    </tr>\n",
       "    <tr>\n",
       "      <td>3</td>\n",
       "      <td>2016-01-15 03:00:00</td>\n",
       "      <td>6.047977</td>\n",
       "      <td>9.977019</td>\n",
       "      <td>4.858634</td>\n",
       "      <td>42.689819</td>\n",
       "      <td>68.347543</td>\n",
       "      <td>10.422762</td>\n",
       "      <td>0.883763</td>\n",
       "      <td>16.532835</td>\n",
       "      <td>2.146849</td>\n",
       "      <td>...</td>\n",
       "      <td>14.036510</td>\n",
       "      <td>-500.857308</td>\n",
       "      <td>11.999550</td>\n",
       "      <td>-501.193686</td>\n",
       "      <td>9.970366</td>\n",
       "      <td>-499.201640</td>\n",
       "      <td>7.977324</td>\n",
       "      <td>-500.255908</td>\n",
       "      <td>14.005551</td>\n",
       "      <td>-599.996129</td>\n",
       "    </tr>\n",
       "    <tr>\n",
       "      <td>4</td>\n",
       "      <td>2016-01-15 04:00:00</td>\n",
       "      <td>6.148599</td>\n",
       "      <td>10.142511</td>\n",
       "      <td>4.939416</td>\n",
       "      <td>42.774141</td>\n",
       "      <td>66.927016</td>\n",
       "      <td>10.360302</td>\n",
       "      <td>0.792826</td>\n",
       "      <td>16.525686</td>\n",
       "      <td>2.055292</td>\n",
       "      <td>...</td>\n",
       "      <td>14.027298</td>\n",
       "      <td>-499.838632</td>\n",
       "      <td>11.953070</td>\n",
       "      <td>-501.053894</td>\n",
       "      <td>9.925709</td>\n",
       "      <td>-501.686727</td>\n",
       "      <td>7.894242</td>\n",
       "      <td>-500.356035</td>\n",
       "      <td>13.996647</td>\n",
       "      <td>-601.496691</td>\n",
       "    </tr>\n",
       "    <tr>\n",
       "      <td>...</td>\n",
       "      <td>...</td>\n",
       "      <td>...</td>\n",
       "      <td>...</td>\n",
       "      <td>...</td>\n",
       "      <td>...</td>\n",
       "      <td>...</td>\n",
       "      <td>...</td>\n",
       "      <td>...</td>\n",
       "      <td>...</td>\n",
       "      <td>...</td>\n",
       "      <td>...</td>\n",
       "      <td>...</td>\n",
       "      <td>...</td>\n",
       "      <td>...</td>\n",
       "      <td>...</td>\n",
       "      <td>...</td>\n",
       "      <td>...</td>\n",
       "      <td>...</td>\n",
       "      <td>...</td>\n",
       "      <td>...</td>\n",
       "      <td>...</td>\n",
       "    </tr>\n",
       "    <tr>\n",
       "      <td>19434</td>\n",
       "      <td>2018-08-18 06:59:59</td>\n",
       "      <td>3.224920</td>\n",
       "      <td>11.356233</td>\n",
       "      <td>6.803482</td>\n",
       "      <td>46.713954</td>\n",
       "      <td>73.755150</td>\n",
       "      <td>8.769645</td>\n",
       "      <td>3.141541</td>\n",
       "      <td>10.403181</td>\n",
       "      <td>1.529220</td>\n",
       "      <td>...</td>\n",
       "      <td>23.031497</td>\n",
       "      <td>-501.167942</td>\n",
       "      <td>20.007571</td>\n",
       "      <td>-499.740028</td>\n",
       "      <td>18.006038</td>\n",
       "      <td>-499.834374</td>\n",
       "      <td>13.001114</td>\n",
       "      <td>-500.155694</td>\n",
       "      <td>20.007840</td>\n",
       "      <td>-501.296428</td>\n",
       "    </tr>\n",
       "    <tr>\n",
       "      <td>19435</td>\n",
       "      <td>2018-08-18 07:59:59</td>\n",
       "      <td>3.195978</td>\n",
       "      <td>11.349355</td>\n",
       "      <td>6.862249</td>\n",
       "      <td>46.866780</td>\n",
       "      <td>69.049291</td>\n",
       "      <td>8.897321</td>\n",
       "      <td>3.130493</td>\n",
       "      <td>10.549470</td>\n",
       "      <td>1.612542</td>\n",
       "      <td>...</td>\n",
       "      <td>22.960095</td>\n",
       "      <td>-501.612783</td>\n",
       "      <td>20.035660</td>\n",
       "      <td>-500.251357</td>\n",
       "      <td>17.998535</td>\n",
       "      <td>-500.395178</td>\n",
       "      <td>12.954048</td>\n",
       "      <td>-499.895163</td>\n",
       "      <td>19.968498</td>\n",
       "      <td>-501.041608</td>\n",
       "    </tr>\n",
       "    <tr>\n",
       "      <td>19436</td>\n",
       "      <td>2018-08-18 08:59:59</td>\n",
       "      <td>3.109998</td>\n",
       "      <td>11.434366</td>\n",
       "      <td>6.886013</td>\n",
       "      <td>46.795691</td>\n",
       "      <td>67.002189</td>\n",
       "      <td>8.529606</td>\n",
       "      <td>2.911418</td>\n",
       "      <td>11.115147</td>\n",
       "      <td>1.596616</td>\n",
       "      <td>...</td>\n",
       "      <td>23.015718</td>\n",
       "      <td>-501.711599</td>\n",
       "      <td>19.951231</td>\n",
       "      <td>-499.857027</td>\n",
       "      <td>18.019543</td>\n",
       "      <td>-500.451156</td>\n",
       "      <td>13.023431</td>\n",
       "      <td>-499.914391</td>\n",
       "      <td>19.990885</td>\n",
       "      <td>-501.518452</td>\n",
       "    </tr>\n",
       "    <tr>\n",
       "      <td>19437</td>\n",
       "      <td>2018-08-18 09:59:59</td>\n",
       "      <td>3.367241</td>\n",
       "      <td>11.625587</td>\n",
       "      <td>6.799433</td>\n",
       "      <td>46.408188</td>\n",
       "      <td>65.523246</td>\n",
       "      <td>8.777171</td>\n",
       "      <td>2.819214</td>\n",
       "      <td>10.463847</td>\n",
       "      <td>1.602879</td>\n",
       "      <td>...</td>\n",
       "      <td>23.024963</td>\n",
       "      <td>-501.153409</td>\n",
       "      <td>20.054122</td>\n",
       "      <td>-500.314711</td>\n",
       "      <td>17.979515</td>\n",
       "      <td>-499.272871</td>\n",
       "      <td>12.992404</td>\n",
       "      <td>-499.976268</td>\n",
       "      <td>20.013986</td>\n",
       "      <td>-500.625471</td>\n",
       "    </tr>\n",
       "    <tr>\n",
       "      <td>19438</td>\n",
       "      <td>2018-08-18 10:59:59</td>\n",
       "      <td>3.598375</td>\n",
       "      <td>11.737832</td>\n",
       "      <td>6.717509</td>\n",
       "      <td>46.299438</td>\n",
       "      <td>70.281454</td>\n",
       "      <td>8.406690</td>\n",
       "      <td>2.517518</td>\n",
       "      <td>10.652193</td>\n",
       "      <td>1.389434</td>\n",
       "      <td>...</td>\n",
       "      <td>23.018622</td>\n",
       "      <td>-500.492702</td>\n",
       "      <td>20.020205</td>\n",
       "      <td>-500.220296</td>\n",
       "      <td>17.963512</td>\n",
       "      <td>-499.939490</td>\n",
       "      <td>12.990306</td>\n",
       "      <td>-500.080993</td>\n",
       "      <td>19.990336</td>\n",
       "      <td>-499.191575</td>\n",
       "    </tr>\n",
       "  </tbody>\n",
       "</table>\n",
       "<p>19439 rows × 87 columns</p>\n",
       "</div>"
      ],
      "text/plain": [
       "                      date  final.output.concentrate_ag  \\\n",
       "0      2016-01-15 00:00:00                     6.055403   \n",
       "1      2016-01-15 01:00:00                     6.029369   \n",
       "2      2016-01-15 02:00:00                     6.055926   \n",
       "3      2016-01-15 03:00:00                     6.047977   \n",
       "4      2016-01-15 04:00:00                     6.148599   \n",
       "...                    ...                          ...   \n",
       "19434  2018-08-18 06:59:59                     3.224920   \n",
       "19435  2018-08-18 07:59:59                     3.195978   \n",
       "19436  2018-08-18 08:59:59                     3.109998   \n",
       "19437  2018-08-18 09:59:59                     3.367241   \n",
       "19438  2018-08-18 10:59:59                     3.598375   \n",
       "\n",
       "       final.output.concentrate_pb  final.output.concentrate_sol  \\\n",
       "0                         9.889648                      5.507324   \n",
       "1                         9.968944                      5.257781   \n",
       "2                        10.213995                      5.383759   \n",
       "3                         9.977019                      4.858634   \n",
       "4                        10.142511                      4.939416   \n",
       "...                            ...                           ...   \n",
       "19434                    11.356233                      6.803482   \n",
       "19435                    11.349355                      6.862249   \n",
       "19436                    11.434366                      6.886013   \n",
       "19437                    11.625587                      6.799433   \n",
       "19438                    11.737832                      6.717509   \n",
       "\n",
       "       final.output.concentrate_au  final.output.recovery  \\\n",
       "0                        42.192020              70.541216   \n",
       "1                        42.701629              69.266198   \n",
       "2                        42.657501              68.116445   \n",
       "3                        42.689819              68.347543   \n",
       "4                        42.774141              66.927016   \n",
       "...                            ...                    ...   \n",
       "19434                    46.713954              73.755150   \n",
       "19435                    46.866780              69.049291   \n",
       "19436                    46.795691              67.002189   \n",
       "19437                    46.408188              65.523246   \n",
       "19438                    46.299438              70.281454   \n",
       "\n",
       "       final.output.tail_ag  final.output.tail_pb  final.output.tail_sol  \\\n",
       "0                 10.411962              0.895447              16.904297   \n",
       "1                 10.462676              0.927452              16.634514   \n",
       "2                 10.507046              0.953716              16.208849   \n",
       "3                 10.422762              0.883763              16.532835   \n",
       "4                 10.360302              0.792826              16.525686   \n",
       "...                     ...                   ...                    ...   \n",
       "19434              8.769645              3.141541              10.403181   \n",
       "19435              8.897321              3.130493              10.549470   \n",
       "19436              8.529606              2.911418              11.115147   \n",
       "19437              8.777171              2.819214              10.463847   \n",
       "19438              8.406690              2.517518              10.652193   \n",
       "\n",
       "       final.output.tail_au  ...  secondary_cleaner.state.floatbank4_a_air  \\\n",
       "0                  2.143149  ...                                 14.016835   \n",
       "1                  2.224930  ...                                 13.992281   \n",
       "2                  2.257889  ...                                 14.015015   \n",
       "3                  2.146849  ...                                 14.036510   \n",
       "4                  2.055292  ...                                 14.027298   \n",
       "...                     ...  ...                                       ...   \n",
       "19434              1.529220  ...                                 23.031497   \n",
       "19435              1.612542  ...                                 22.960095   \n",
       "19436              1.596616  ...                                 23.015718   \n",
       "19437              1.602879  ...                                 23.024963   \n",
       "19438              1.389434  ...                                 23.018622   \n",
       "\n",
       "       secondary_cleaner.state.floatbank4_a_level  \\\n",
       "0                                     -502.488007   \n",
       "1                                     -505.503262   \n",
       "2                                     -502.520901   \n",
       "3                                     -500.857308   \n",
       "4                                     -499.838632   \n",
       "...                                           ...   \n",
       "19434                                 -501.167942   \n",
       "19435                                 -501.612783   \n",
       "19436                                 -501.711599   \n",
       "19437                                 -501.153409   \n",
       "19438                                 -500.492702   \n",
       "\n",
       "       secondary_cleaner.state.floatbank4_b_air  \\\n",
       "0                                     12.099931   \n",
       "1                                     11.950531   \n",
       "2                                     11.912783   \n",
       "3                                     11.999550   \n",
       "4                                     11.953070   \n",
       "...                                         ...   \n",
       "19434                                 20.007571   \n",
       "19435                                 20.035660   \n",
       "19436                                 19.951231   \n",
       "19437                                 20.054122   \n",
       "19438                                 20.020205   \n",
       "\n",
       "       secondary_cleaner.state.floatbank4_b_level  \\\n",
       "0                                     -504.715942   \n",
       "1                                     -501.331529   \n",
       "2                                     -501.133383   \n",
       "3                                     -501.193686   \n",
       "4                                     -501.053894   \n",
       "...                                           ...   \n",
       "19434                                 -499.740028   \n",
       "19435                                 -500.251357   \n",
       "19436                                 -499.857027   \n",
       "19437                                 -500.314711   \n",
       "19438                                 -500.220296   \n",
       "\n",
       "       secondary_cleaner.state.floatbank5_a_air  \\\n",
       "0                                      9.925633   \n",
       "1                                     10.039245   \n",
       "2                                     10.070913   \n",
       "3                                      9.970366   \n",
       "4                                      9.925709   \n",
       "...                                         ...   \n",
       "19434                                 18.006038   \n",
       "19435                                 17.998535   \n",
       "19436                                 18.019543   \n",
       "19437                                 17.979515   \n",
       "19438                                 17.963512   \n",
       "\n",
       "       secondary_cleaner.state.floatbank5_a_level  \\\n",
       "0                                     -498.310211   \n",
       "1                                     -500.169983   \n",
       "2                                     -500.129135   \n",
       "3                                     -499.201640   \n",
       "4                                     -501.686727   \n",
       "...                                           ...   \n",
       "19434                                 -499.834374   \n",
       "19435                                 -500.395178   \n",
       "19436                                 -500.451156   \n",
       "19437                                 -499.272871   \n",
       "19438                                 -499.939490   \n",
       "\n",
       "       secondary_cleaner.state.floatbank5_b_air  \\\n",
       "0                                      8.079666   \n",
       "1                                      7.984757   \n",
       "2                                      8.013877   \n",
       "3                                      7.977324   \n",
       "4                                      7.894242   \n",
       "...                                         ...   \n",
       "19434                                 13.001114   \n",
       "19435                                 12.954048   \n",
       "19436                                 13.023431   \n",
       "19437                                 12.992404   \n",
       "19438                                 12.990306   \n",
       "\n",
       "       secondary_cleaner.state.floatbank5_b_level  \\\n",
       "0                                     -500.470978   \n",
       "1                                     -500.582168   \n",
       "2                                     -500.517572   \n",
       "3                                     -500.255908   \n",
       "4                                     -500.356035   \n",
       "...                                           ...   \n",
       "19434                                 -500.155694   \n",
       "19435                                 -499.895163   \n",
       "19436                                 -499.914391   \n",
       "19437                                 -499.976268   \n",
       "19438                                 -500.080993   \n",
       "\n",
       "       secondary_cleaner.state.floatbank6_a_air  \\\n",
       "0                                     14.151341   \n",
       "1                                     13.998353   \n",
       "2                                     14.028663   \n",
       "3                                     14.005551   \n",
       "4                                     13.996647   \n",
       "...                                         ...   \n",
       "19434                                 20.007840   \n",
       "19435                                 19.968498   \n",
       "19436                                 19.990885   \n",
       "19437                                 20.013986   \n",
       "19438                                 19.990336   \n",
       "\n",
       "       secondary_cleaner.state.floatbank6_a_level  \n",
       "0                                     -605.841980  \n",
       "1                                     -599.787184  \n",
       "2                                     -601.427363  \n",
       "3                                     -599.996129  \n",
       "4                                     -601.496691  \n",
       "...                                           ...  \n",
       "19434                                 -501.296428  \n",
       "19435                                 -501.041608  \n",
       "19436                                 -501.518452  \n",
       "19437                                 -500.625471  \n",
       "19438                                 -499.191575  \n",
       "\n",
       "[19439 rows x 87 columns]"
      ]
     },
     "execution_count": 4,
     "metadata": {},
     "output_type": "execute_result"
    }
   ],
   "source": [
    "df_full=pd.read_csv('/datasets/gold_recovery_full_new.csv')\n",
    "df_full=df_full.fillna(value=None, method=\"ffill\") \n",
    "df_full\n",
    "#print(df_full.isnull().sum()*100/len(df_full))"
   ]
  },
  {
   "cell_type": "markdown",
   "metadata": {},
   "source": [
    "Данные выгружены и их много"
   ]
  },
  {
   "cell_type": "code",
   "execution_count": 5,
   "metadata": {},
   "outputs": [
    {
     "name": "stdout",
     "output_type": "stream",
     "text": [
      "87\n"
     ]
    },
    {
     "data": {
      "text/plain": [
       "['final.output.concentrate_ag',\n",
       " 'final.output.concentrate_pb',\n",
       " 'final.output.concentrate_sol',\n",
       " 'final.output.concentrate_au',\n",
       " 'final.output.recovery',\n",
       " 'final.output.tail_ag',\n",
       " 'final.output.tail_pb',\n",
       " 'final.output.tail_sol',\n",
       " 'final.output.tail_au',\n",
       " 'primary_cleaner.output.concentrate_ag',\n",
       " 'primary_cleaner.output.concentrate_pb',\n",
       " 'primary_cleaner.output.concentrate_sol',\n",
       " 'primary_cleaner.output.concentrate_au',\n",
       " 'primary_cleaner.output.tail_ag',\n",
       " 'primary_cleaner.output.tail_pb',\n",
       " 'primary_cleaner.output.tail_sol',\n",
       " 'primary_cleaner.output.tail_au',\n",
       " 'rougher.calculation.sulfate_to_au_concentrate',\n",
       " 'rougher.calculation.floatbank10_sulfate_to_au_feed',\n",
       " 'rougher.calculation.floatbank11_sulfate_to_au_feed',\n",
       " 'rougher.calculation.au_pb_ratio',\n",
       " 'rougher.output.concentrate_ag',\n",
       " 'rougher.output.concentrate_pb',\n",
       " 'rougher.output.concentrate_sol',\n",
       " 'rougher.output.concentrate_au',\n",
       " 'rougher.output.recovery',\n",
       " 'rougher.output.tail_ag',\n",
       " 'rougher.output.tail_pb',\n",
       " 'rougher.output.tail_sol',\n",
       " 'rougher.output.tail_au',\n",
       " 'secondary_cleaner.output.tail_ag',\n",
       " 'secondary_cleaner.output.tail_pb',\n",
       " 'secondary_cleaner.output.tail_sol',\n",
       " 'secondary_cleaner.output.tail_au']"
      ]
     },
     "execution_count": 5,
     "metadata": {},
     "output_type": "execute_result"
    }
   ],
   "source": [
    "df_traincs=df_train.columns\n",
    "df_testcs=df_test.columns\n",
    "df_diff=[]\n",
    "for train in df_traincs:\n",
    "    if train not in df_testcs:\n",
    "        df_diff.append(train)\n",
    "print(len(df_traincs))\n",
    "df_diff"
   ]
  },
  {
   "cell_type": "markdown",
   "metadata": {},
   "source": [
    "В тестовой выборке по сути отсутствуют все выходные параметры с каждого этапа, чтоб мы предсказали так предсказали"
   ]
  },
  {
   "cell_type": "code",
   "execution_count": 6,
   "metadata": {},
   "outputs": [],
   "source": [
    "df_train_clear1=df_train\n",
    "df_train_clear1=df_train.dropna()"
   ]
  },
  {
   "cell_type": "code",
   "execution_count": 7,
   "metadata": {},
   "outputs": [
    {
     "name": "stdout",
     "output_type": "stream",
     "text": [
      "False    11017\n",
      "Name: rougher.input.feed_au, dtype: int64\n",
      "False    11017\n",
      "Name: rougher.output.concentrate_au, dtype: int64\n",
      "False    11017\n",
      "Name: rougher.output.tail_au, dtype: int64\n",
      "False    11017\n",
      "dtype: int64\n",
      "False    11017\n",
      "dtype: int64\n",
      "False    11017\n",
      "Name: rougher_recovery, dtype: int64\n",
      "9.739730529255835e-15\n"
     ]
    },
    {
     "name": "stderr",
     "output_type": "stream",
     "text": [
      "/opt/conda/lib/python3.7/site-packages/ipykernel_launcher.py:11: SettingWithCopyWarning: \n",
      "A value is trying to be set on a copy of a slice from a DataFrame.\n",
      "Try using .loc[row_indexer,col_indexer] = value instead\n",
      "\n",
      "See the caveats in the documentation: http://pandas.pydata.org/pandas-docs/stable/user_guide/indexing.html#returning-a-view-versus-a-copy\n",
      "  # This is added back by InteractiveShellApp.init_path()\n"
     ]
    }
   ],
   "source": [
    "F=df_train_clear1['rougher.input.feed_au']\n",
    "print(F.isna().value_counts())\n",
    "C=df_train_clear1['rougher.output.concentrate_au']\n",
    "print(C.isna().value_counts())\n",
    "T=df_train_clear1['rougher.output.tail_au']\n",
    "print(T.isna().value_counts())\n",
    "A=C*(F-T)\n",
    "print(A.isna().value_counts())\n",
    "B=F*(C-T)\n",
    "print(B.isna().value_counts())\n",
    "df_train_clear1['rougher_recovery']=(A/B)*100\n",
    "print(df_train_clear1['rougher_recovery'].isna().value_counts())\n",
    "print(mean_absolute_error(df_train_clear1['rougher.output.recovery'], df_train_clear1['rougher_recovery']))"
   ]
  },
  {
   "cell_type": "markdown",
   "metadata": {},
   "source": [
    "Полученная ошибка порядка минус 15 степени, думаю вполне себе не критично. Были косяки тк данные заполнялись ффилом, иногда появлялись нули при расчете MAE, поэтому длины векторов чуть короче базовых"
   ]
  },
  {
   "cell_type": "markdown",
   "metadata": {},
   "source": [
    "## Анализ данных"
   ]
  },
  {
   "cell_type": "code",
   "execution_count": 8,
   "metadata": {},
   "outputs": [
    {
     "name": "stdout",
     "output_type": "stream",
     "text": [
      "------------------------------------------------------\n",
      "Средняя концентрация свинца после флотации 7.606272313195004\n",
      "Средняя концентрация свинца после первичного этапа очистки 9.810316539310149\n",
      "Средняя концентрация свинца на выходе 9.978821384192907\n",
      "------------------------------------------------------\n",
      "Средняя концентрация серебра после флотации 11.994759359873429\n",
      "Средняя концентрация серебра после первичного этапа очистки 8.44240807771906\n",
      "Средняя концентрация серебра на выходе 5.168386967510243\n",
      "------------------------------------------------------\n",
      "Средняя концентрация золота после флотации 19.772000139486313\n",
      "Средняя концентрация золота после первичного этапа очистки 32.1194004078765\n",
      "Средняя концентрация золота на выходе 44.0765129419528\n"
     ]
    }
   ],
   "source": [
    "print(\"------------------------------------------------------\")\n",
    "print(\"Средняя концентрация свинца после флотации\", df_full[\"rougher.output.concentrate_pb\"].mean())\n",
    "print(\"Средняя концентрация свинца после первичного этапа очистки\", df_full['primary_cleaner.output.concentrate_pb'].mean())\n",
    "print(\"Средняя концентрация свинца на выходе\", df_full[\"final.output.concentrate_pb\"].mean())\n",
    "print(\"------------------------------------------------------\")\n",
    "print(\"Средняя концентрация серебра после флотации\", df_full[\"rougher.output.concentrate_ag\"].mean())\n",
    "print(\"Средняя концентрация серебра после первичного этапа очистки\", df_full['primary_cleaner.output.concentrate_ag'].mean())\n",
    "print(\"Средняя концентрация серебра на выходе\", df_full[\"final.output.concentrate_ag\"].mean())\n",
    "print(\"------------------------------------------------------\")\n",
    "print(\"Средняя концентрация золота после флотации\", df_full[\"rougher.output.concentrate_au\"].mean())\n",
    "print(\"Средняя концентрация золота после первичного этапа очистки\", df_full['primary_cleaner.output.concentrate_au'].mean())\n",
    "print(\"Средняя концентрация золота на выходе\", df_full[\"final.output.concentrate_au\"].mean())"
   ]
  },
  {
   "cell_type": "markdown",
   "metadata": {},
   "source": [
    "Концентрации свинца и золота в процессе очистки закномерн растут, а вот серебра все меньше и меньше. Думаю все же тк мы целим больше в золото здесь, то и специфику очистки серебра особо в процессе никто не учитывает (можно было все в функцию преобразовать, но мне просто более конкретная графика тут нравится аля серебра и тд а не серебро и ее параметры) "
   ]
  },
  {
   "cell_type": "code",
   "execution_count": 9,
   "metadata": {},
   "outputs": [
    {
     "data": {
      "image/png": "[encoded data removed]",
      "text/plain": [
       "<Figure size 432x288 with 1 Axes>"
      ]
     },
     "metadata": {
      "needs_background": "light"
     },
     "output_type": "display_data"
    },
    {
     "data": {
      "image/png": "[encoded data removed]",
      "text/plain": [
       "<Figure size 432x288 with 1 Axes>"
      ]
     },
     "metadata": {},
     "output_type": "display_data"
    },
    {
     "data": {
      "image/png": "[encoded data removed]",
      "text/plain": [
       "<Figure size 432x288 with 1 Axes>"
      ]
     },
     "metadata": {},
     "output_type": "display_data"
    }
   ],
   "source": [
    "plt.title(\"Сравнение распределений размеров гранул сырья золота\")\n",
    "sns.set(style=\"darkgrid\")\n",
    "fig = sns.kdeplot(df_train[\"rougher.output.concentrate_au\"], shade=True, color=\"r\")\n",
    "fig = sns.kdeplot(df_train[\"primary_cleaner.output.concentrate_au\"], shade=True, color=\"b\")\n",
    "fig = sns.kdeplot(df_train[\"final.output.concentrate_au\"], shade=True, color=\"g\")\n",
    "plt.legend(['Флотация', 'Первичная очистка', \"На выходе\" ], loc=1)\n",
    "plt.show()\n",
    "\n",
    "plt.title(\"Сравнение распределений размеров гранул сырья серебра\")\n",
    "sns.set(style=\"darkgrid\")\n",
    "fig = sns.kdeplot(df_train[\"rougher.output.concentrate_ag\"], shade=True, color=\"r\")\n",
    "fig = sns.kdeplot(df_train[\"primary_cleaner.output.concentrate_ag\"], shade=True, color=\"b\")\n",
    "fig = sns.kdeplot(df_train[\"final.output.concentrate_ag\"], shade=True, color=\"g\")\n",
    "plt.legend(['Флотация', 'Первичная очистка', \"На выходе\" ], loc=1)\n",
    "plt.show()\n",
    "\n",
    "plt.title(\"Сравнение распределений размеров гранул сырья свинца\")\n",
    "sns.set(style=\"darkgrid\")\n",
    "fig = sns.kdeplot(df_train[\"rougher.output.concentrate_pb\"], shade=True, color=\"r\")\n",
    "fig = sns.kdeplot(df_train[\"primary_cleaner.output.concentrate_pb\"], shade=True, color=\"b\")\n",
    "fig = sns.kdeplot(df_train[\"final.output.concentrate_pb\"], shade=True, color=\"g\")\n",
    "plt.legend(['Флотация', 'Первичная очистка', \"На выходе\" ], loc=1)\n",
    "plt.show()"
   ]
  },
  {
   "cell_type": "code",
   "execution_count": 10,
   "metadata": {},
   "outputs": [
    {
     "data": {
      "image/png": "[encoded data removed]",
      "text/plain": [
       "<Figure size 432x288 with 1 Axes>"
      ]
     },
     "metadata": {},
     "output_type": "display_data"
    }
   ],
   "source": [
    "plt.title(\"Сравнение распределений размеров гранул сырья на выборках\")\n",
    "sns.set(style=\"darkgrid\")\n",
    "fig = sns.kdeplot(df_train['rougher.input.feed_size'], shade=True, color=\"r\")\n",
    "fig = sns.kdeplot(df_test['rougher.input.feed_size'], shade=True, color=\"b\")\n",
    "plt.legend(['Обучающая выборка', 'Тестовая выборка'], loc=1)\n",
    "plt.show()"
   ]
  },
  {
   "cell_type": "markdown",
   "metadata": {},
   "source": [
    "Графически распределения размеров гранул очень похожи, думаю ошибки не должно быть"
   ]
  },
  {
   "cell_type": "code",
   "execution_count": 11,
   "metadata": {},
   "outputs": [
    {
     "name": "stderr",
     "output_type": "stream",
     "text": [
      "/opt/conda/lib/python3.7/site-packages/ipykernel_launcher.py:1: SettingWithCopyWarning: \n",
      "A value is trying to be set on a copy of a slice from a DataFrame.\n",
      "Try using .loc[row_indexer,col_indexer] = value instead\n",
      "\n",
      "See the caveats in the documentation: http://pandas.pydata.org/pandas-docs/stable/user_guide/indexing.html#returning-a-view-versus-a-copy\n",
      "  \"\"\"Entry point for launching an IPython kernel.\n",
      "/opt/conda/lib/python3.7/site-packages/ipykernel_launcher.py:2: SettingWithCopyWarning: \n",
      "A value is trying to be set on a copy of a slice from a DataFrame.\n",
      "Try using .loc[row_indexer,col_indexer] = value instead\n",
      "\n",
      "See the caveats in the documentation: http://pandas.pydata.org/pandas-docs/stable/user_guide/indexing.html#returning-a-view-versus-a-copy\n",
      "  \n",
      "/opt/conda/lib/python3.7/site-packages/ipykernel_launcher.py:4: SettingWithCopyWarning: \n",
      "A value is trying to be set on a copy of a slice from a DataFrame.\n",
      "Try using .loc[row_indexer,col_indexer] = value instead\n",
      "\n",
      "See the caveats in the documentation: http://pandas.pydata.org/pandas-docs/stable/user_guide/indexing.html#returning-a-view-versus-a-copy\n",
      "  after removing the cwd from sys.path.\n",
      "/opt/conda/lib/python3.7/site-packages/ipykernel_launcher.py:6: SettingWithCopyWarning: \n",
      "A value is trying to be set on a copy of a slice from a DataFrame.\n",
      "Try using .loc[row_indexer,col_indexer] = value instead\n",
      "\n",
      "See the caveats in the documentation: http://pandas.pydata.org/pandas-docs/stable/user_guide/indexing.html#returning-a-view-versus-a-copy\n",
      "  \n"
     ]
    }
   ],
   "source": [
    "df_train_clear1['input']=df_train_clear1['rougher.input.feed_ag']+df_train_clear1['rougher.input.feed_pb']+df_train_clear1['rougher.input.feed_au']+df_train_clear1['rougher.input.feed_sol']\n",
    "df_train_clear1['rougher']=df_train_clear1['rougher.output.concentrate_ag']+df_train_clear1['rougher.output.concentrate_pb']+df_train_clear1['rougher.output.concentrate_au']+df_train_clear1['rougher.output.concentrate_sol']\n",
    "\n",
    "df_train_clear1['black']=df_train_clear1['primary_cleaner.output.concentrate_ag']+df_train_clear1['primary_cleaner.output.concentrate_pb']+df_train_clear1['primary_cleaner.output.concentrate_au']+df_train_clear1['primary_cleaner.output.concentrate_sol']\n",
    "\n",
    "df_train_clear1['finale']=df_train_clear1['final.output.concentrate_ag']+df_train_clear1['final.output.concentrate_pb']+df_train_clear1['final.output.concentrate_au']+df_train_clear1['final.output.concentrate_sol']\n"
   ]
  },
  {
   "cell_type": "markdown",
   "metadata": {},
   "source": [
    "Если смотреть по всей выборке, то на этапе работы с черновым концентратом вещества маловато, но думаю просто этот нюанс связан за типом заполнения пропусков"
   ]
  },
  {
   "cell_type": "code",
   "execution_count": 12,
   "metadata": {
    "scrolled": true
   },
   "outputs": [
    {
     "data": {
      "image/png": "[encoded data removed]",
      "text/plain": [
       "<Figure size 1440x504 with 1 Axes>"
      ]
     },
     "metadata": {},
     "output_type": "display_data"
    }
   ],
   "source": [
    "fig = plt.subplots(figsize=(20, 7))\n",
    "fig = sns.distplot(a=df_train_clear1['rougher'], hist=True, kde=True, rug=False , color=\"r\")\n",
    "fig = sns.distplot(a=df_train_clear1['black'], hist=True, kde=True, rug=False , color=\"g\")\n",
    "fig = sns.distplot(a=df_train_clear1['finale'], hist=True, kde=True, rug=False , color=\"b\")\n",
    "fig = sns.distplot(a=df_train_clear1['input'], hist=True, kde=True, rug=False , color=\"y\")\n",
    "plt.legend(['rougher', 'primary', 'final', 'input'], loc=1)\n",
    "plt.show()"
   ]
  },
  {
   "cell_type": "code",
   "execution_count": 13,
   "metadata": {},
   "outputs": [
    {
     "name": "stdout",
     "output_type": "stream",
     "text": [
      "(10611, 92)\n"
     ]
    },
    {
     "data": {
      "text/plain": [
       "(10226, 93)"
      ]
     },
     "execution_count": 13,
     "metadata": {},
     "output_type": "execute_result"
    }
   ],
   "source": [
    "df_train_clear1=df_train_clear1.query('rougher > 20 & black>20 & finale>20 & input >20')\n",
    "print(df_train_clear1.shape)\n",
    "df_train_clear1['final_recovery']=df_train_clear1['final.output.recovery']\n",
    "df_train_clear1=df_train_clear1.query('50 < final_recovery < 95')\n",
    "df_train_clear1.shape"
   ]
  },
  {
   "cell_type": "code",
   "execution_count": 14,
   "metadata": {},
   "outputs": [
    {
     "data": {
      "text/plain": [
       "count    10226.000000\n",
       "mean        67.685330\n",
       "std          6.441740\n",
       "min         50.067542\n",
       "25%         63.567966\n",
       "50%         67.565718\n",
       "75%         72.169023\n",
       "max         93.670199\n",
       "Name: final.output.recovery, dtype: float64"
      ]
     },
     "execution_count": 14,
     "metadata": {},
     "output_type": "execute_result"
    },
    {
     "data": {
      "image/png": "[encoded data removed]",
      "text/plain": [
       "<Figure size 432x288 with 1 Axes>"
      ]
     },
     "metadata": {},
     "output_type": "display_data"
    }
   ],
   "source": [
    "df_train_clear1.boxplot('final.output.recovery')\n",
    "df_train_clear1['final.output.recovery'].describe()"
   ]
  },
  {
   "cell_type": "markdown",
   "metadata": {},
   "source": [
    "## Модель"
   ]
  },
  {
   "cell_type": "code",
   "execution_count": 15,
   "metadata": {},
   "outputs": [],
   "source": [
    "def smape(A, F):\n",
    "    return 100/len(A) * np.sum(2 * np.abs(F - A) / (np.abs(A) + np.abs(F)))"
   ]
  },
  {
   "cell_type": "markdown",
   "metadata": {},
   "source": [
    "Написал формулу для smape"
   ]
  },
  {
   "cell_type": "code",
   "execution_count": 16,
   "metadata": {},
   "outputs": [
    {
     "data": {
      "text/plain": [
       "(10226, 52)"
      ]
     },
     "execution_count": 16,
     "metadata": {},
     "output_type": "execute_result"
    }
   ],
   "source": [
    "train_target1=df_train_clear1['rougher.output.recovery']\n",
    "train_target2=df_train_clear1['final_recovery']\n",
    "train_features=df_train_clear1[df_test.columns].drop('date', axis=1)\n",
    "train_features.shape"
   ]
  },
  {
   "cell_type": "code",
   "execution_count": 17,
   "metadata": {},
   "outputs": [],
   "source": [
    "df_full_target=df_full[['date','rougher.output.recovery','final.output.recovery']]\n",
    "df_test_ready = df_test.merge(df_full_target,  on='date', how='left')\n",
    "df_test_ready=df_test_ready.dropna()"
   ]
  },
  {
   "cell_type": "code",
   "execution_count": 18,
   "metadata": {},
   "outputs": [
    {
     "name": "stdout",
     "output_type": "stream",
     "text": [
      "(5290, 52)\n"
     ]
    }
   ],
   "source": [
    "test_features=df_test_ready.drop(['date','rougher.output.recovery', 'final.output.recovery'], axis=1)\n",
    "print(test_features.shape)\n",
    "test_target1=df_test_ready['rougher.output.recovery']\n",
    "test_target2=df_test_ready['final.output.recovery']"
   ]
  },
  {
   "cell_type": "markdown",
   "metadata": {},
   "source": [
    "здесь разбил данные на фичи и таргеты, таргеты для тестовой выборки взял из общего набора данных"
   ]
  },
  {
   "cell_type": "code",
   "execution_count": 19,
   "metadata": {},
   "outputs": [
    {
     "name": "stdout",
     "output_type": "stream",
     "text": [
      "8.607609571751693\n"
     ]
    }
   ],
   "source": [
    "model_lr =LinearRegression() \n",
    "model_lr.fit(train_features, train_target1)\n",
    "result=model_lr.predict(test_features)\n",
    "smape1=smape(test_target1, result) \n",
    "print(smape1)"
   ]
  },
  {
   "cell_type": "code",
   "execution_count": 20,
   "metadata": {},
   "outputs": [
    {
     "name": "stdout",
     "output_type": "stream",
     "text": [
      "22.878856841428075\n"
     ]
    }
   ],
   "source": [
    "model_lr1 =LinearRegression() \n",
    "model_lr1.fit(train_features, train_target2)\n",
    "result1=model_lr.predict(test_features)\n",
    "smape1=smape(test_target2, result1) \n",
    "print(smape1)"
   ]
  },
  {
   "cell_type": "markdown",
   "metadata": {},
   "source": [
    "Был произведен подбор гиперпараметров, по результатам которого стало понятно, что хоть и придется ждать полчаса, но случайный лес - точнее остальных по обеим метрикам"
   ]
  },
  {
   "cell_type": "code",
   "execution_count": 21,
   "metadata": {},
   "outputs": [
    {
     "name": "stdout",
     "output_type": "stream",
     "text": [
      "8.055571292520616\n",
      "[-0.41073151  0.79697618  0.77923351  0.35670086  0.40343821]\n"
     ]
    }
   ],
   "source": [
    "model_rougher=RandomForestRegressor(random_state=12345, n_estimators=40, max_depth=1)\n",
    "model_rougher.fit(train_features, train_target1) \n",
    "result=model_rougher.predict(test_features)\n",
    "smape_rougher=smape(test_target1, result)\n",
    "scores_rougher = cross_val_score(model_rougher, test_features, result, cv=5)\n",
    "final_score = scores_rougher.mean()\n",
    "print(smape_rougher)\n",
    "print(scores_rougher)"
   ]
  },
  {
   "cell_type": "code",
   "execution_count": 22,
   "metadata": {},
   "outputs": [
    {
     "name": "stdout",
     "output_type": "stream",
     "text": [
      "9.141959024992607\n"
     ]
    }
   ],
   "source": [
    "model_final=LinearRegression(copy_X=True, normalize = True)\n",
    "model_final.fit(train_features, train_target2) \n",
    "result1=model_final.predict(test_features)\n",
    "smape_final=smape(test_target2, result1)\n",
    "scores_final = cross_val_score(model_final, test_features, result1, cv=5)\n",
    "final_score1 = scores_final.mean()\n",
    "print(smape_final)"
   ]
  },
  {
   "cell_type": "code",
   "execution_count": 23,
   "metadata": {},
   "outputs": [
    {
     "name": "stdout",
     "output_type": "stream",
     "text": [
      "9.060810868578608\n",
      "0.814041632550208\n"
     ]
    }
   ],
   "source": [
    "model_final1=RandomForestRegressor(random_state=12345, n_estimators=40, max_depth=7)\n",
    "model_final1.fit(train_features, train_target2) \n",
    "result=model_final1.predict(test_features)\n",
    "smape_final1=smape(test_target2, result)\n",
    "scores_final = cross_val_score(model_final1, test_features, result, cv=5)\n",
    "final_score1 = scores_final.mean()\n",
    "print(smape_final1)\n",
    "print(final_score1)"
   ]
  },
  {
   "cell_type": "code",
   "execution_count": 24,
   "metadata": {},
   "outputs": [
    {
     "name": "stderr",
     "output_type": "stream",
     "text": [
      "/opt/conda/lib/python3.7/site-packages/sklearn/ensemble/forest.py:245: FutureWarning: The default value of n_estimators will change from 10 in version 0.20 to 100 in 0.22.\n",
      "  \"10 in version 0.20 to 100 in 0.22.\", FutureWarning)\n"
     ]
    },
    {
     "name": "stdout",
     "output_type": "stream",
     "text": [
      "9.386544804136319\n",
      "0.9701410114661652\n"
     ]
    }
   ],
   "source": [
    "model_final2=RandomForestRegressor(random_state=12345, max_depth=1)\n",
    "model_final2.fit(train_features, train_target2) \n",
    "result=model_final2.predict(test_features)\n",
    "smape_final2=smape(test_target2, result)\n",
    "scores_final = cross_val_score(model_final2, test_features, result, cv=5)\n",
    "final_score1 = scores_final.mean()\n",
    "print(smape_final2)\n",
    "print(final_score1)"
   ]
  },
  {
   "cell_type": "markdown",
   "metadata": {},
   "source": [
    "Но в процессе проверки статистики оказалось, что для финальных параметров сырья линейная регрессия лучше (smape меньше). Ну а так по результатам кросс-валидации результаты неплохие, только смущает, что четвертый набор отвратительно предсказан, там скорее всего выброс был или вроде того (но точность моделей на выходных данных меня пугает мягко говоря, думаю где-то ошибся)."
   ]
  },
  {
   "cell_type": "code",
   "execution_count": 25,
   "metadata": {},
   "outputs": [
    {
     "name": "stdout",
     "output_type": "stream",
     "text": [
      "Итоговое симметричное среднее абсолютное процентное отклонение 8.809500974564111\n"
     ]
    }
   ],
   "source": [
    "total_smape=0.25*smape_rougher+0.75*smape_final1\n",
    "print('Итоговое симметричное среднее абсолютное процентное отклонение', total_smape)"
   ]
  },
  {
   "cell_type": "code",
   "execution_count": 26,
   "metadata": {},
   "outputs": [
    {
     "name": "stdout",
     "output_type": "stream",
     "text": [
      "9.70284727672549\n",
      "8.670264849521997\n"
     ]
    },
    {
     "data": {
      "text/plain": [
       "8.92841045632287"
      ]
     },
     "execution_count": 26,
     "metadata": {},
     "output_type": "execute_result"
    }
   ],
   "source": [
    "from sklearn.dummy import DummyRegressor\n",
    "dummy_regressor_rougher = DummyRegressor(strategy=\"median\")\n",
    "dummy_regressor_rougher.fit(train_features, train_target2)\n",
    "dummy_rougher_pred = dummy_regressor_rougher.predict(test_features)\n",
    "smape_dummy_rougher = smape(test_target2, dummy_rougher_pred)\n",
    "print(smape_dummy_rougher)\n",
    "\n",
    "dummy_regressor_final = DummyRegressor(strategy=\"median\")\n",
    "dummy_regressor_final.fit(train_features, train_target1)\n",
    "dummy_final_pred = dummy_regressor_final.predict(test_features)\n",
    "smape_dummy_final = smape(test_target1, dummy_final_pred)\n",
    "print(smape_dummy_final)\n",
    "\n",
    "total_smape=0.25*smape_dummy_rougher+0.75*smape_dummy_final\n",
    "total_smape"
   ]
  },
  {
   "cell_type": "markdown",
   "metadata": {},
   "source": [
    "Итоговый smape относительно небольшой, думаю в процессе уже непосредственно после подбора гиперпараметров я где-то норм накосячил либо же еще и выбросы стоило найти и убрать (плотбар строился полчаса я сдался)"
   ]
  },
  {
   "cell_type": "code",
   "execution_count": 27,
   "metadata": {},
   "outputs": [],
   "source": [
    "from sklearn.metrics import make_scorer\n",
    "scores = make_scorer(smape, greater_is_better = False)"
   ]
  },
  {
   "cell_type": "code",
   "execution_count": 28,
   "metadata": {},
   "outputs": [
    {
     "name": "stdout",
     "output_type": "stream",
     "text": [
      "Лучшее значение метрики: 5.70\n",
      "Лучшие гиперпараметры:  {'copy_X': True, 'fit_intercept': True, 'normalize': True}\n",
      "Лучшее значение метрики: 7.28\n",
      "Лучшие гиперпараметры:  {'copy_X': True, 'fit_intercept': False, 'normalize': True}\n"
     ]
    },
    {
     "data": {
      "text/plain": [
       "{'copy_X': True, 'fit_intercept': False, 'normalize': True}"
      ]
     },
     "execution_count": 28,
     "metadata": {},
     "output_type": "execute_result"
    }
   ],
   "source": [
    "# Линейная регрессия\n",
    "from sklearn.model_selection import GridSearchCV\n",
    "from sklearn.metrics import make_scorer\n",
    "\n",
    "def lr_gridsearchcv(features, target, scores):\n",
    "    model = LinearRegression()\n",
    "    param_grid = {\n",
    "        'copy_X':[True, False],\n",
    "        'fit_intercept' : [True, False],\n",
    "        'normalize':[True,False]\n",
    "    }\n",
    "    \n",
    "    my_scorer = make_scorer(scores, greater_is_better=False)\n",
    "    CV = GridSearchCV(estimator = model, param_grid = param_grid, cv=5, scoring = my_scorer)\n",
    "    CV.fit(features, target)\n",
    "    print('Лучшее значение метрики: {:.2f}'.format(-CV.best_score_))\n",
    "    print('Лучшие гиперпараметры: ', CV.best_params_)\n",
    "    return CV.best_params_ \n",
    "\n",
    "lr_gridsearchcv(train_features, train_target1, smape)\n",
    "lr_gridsearchcv(train_features, train_target2, smape)\n",
    "#Пытался вызвать, но чет не пошло"
   ]
  },
  {
   "cell_type": "markdown",
   "metadata": {},
   "source": [
    "В конец проекта вывел подбор оптимальных для данной метрики гиперпараметров для логистической регрессии а также сгенерил дамми реггресор, чтобы было, с чем сравнить."
   ]
  }
 ],
 "metadata": {
  "ExecuteTimeLog": [
   {
    "duration": 556,
    "start_time": "2021-06-28T19:37:36.289Z"
   },
   {
    "duration": 1234,
    "start_time": "2021-06-28T19:37:42.100Z"
   },
   {
    "duration": 2167,
    "start_time": "2021-06-28T19:37:43.338Z"
   },
   {
    "duration": 418,
    "start_time": "2021-06-28T19:37:52.852Z"
   },
   {
    "duration": 131,
    "start_time": "2021-06-28T19:41:34.257Z"
   },
   {
    "duration": 101,
    "start_time": "2021-06-28T19:41:44.497Z"
   },
   {
    "duration": 367,
    "start_time": "2021-06-28T19:41:54.484Z"
   },
   {
    "duration": 507,
    "start_time": "2021-06-28T19:42:34.976Z"
   },
   {
    "duration": 8,
    "start_time": "2021-06-28T19:43:28.318Z"
   },
   {
    "duration": 404,
    "start_time": "2021-06-28T19:46:47.125Z"
   },
   {
    "duration": 379,
    "start_time": "2021-06-28T19:50:41.885Z"
   },
   {
    "duration": 106,
    "start_time": "2021-06-28T19:51:48.761Z"
   },
   {
    "duration": 14195,
    "start_time": "2021-06-28T19:57:30.053Z"
   },
   {
    "duration": 12839,
    "start_time": "2021-06-28T19:57:52.307Z"
   },
   {
    "duration": 12644,
    "start_time": "2021-06-28T19:58:44.282Z"
   },
   {
    "duration": 384,
    "start_time": "2021-06-28T19:59:16.185Z"
   },
   {
    "duration": 368,
    "start_time": "2021-06-28T19:59:33.693Z"
   },
   {
    "duration": 407,
    "start_time": "2021-06-28T19:59:43.234Z"
   },
   {
    "duration": 385,
    "start_time": "2021-06-28T20:00:09.230Z"
   },
   {
    "duration": 107,
    "start_time": "2021-06-28T20:00:35.399Z"
   },
   {
    "duration": 506,
    "start_time": "2021-06-28T20:01:22.810Z"
   },
   {
    "duration": 6,
    "start_time": "2021-06-28T20:05:29.795Z"
   },
   {
    "duration": 1417,
    "start_time": "2021-06-28T20:09:13.845Z"
   },
   {
    "duration": 7,
    "start_time": "2021-06-28T20:09:46.886Z"
   },
   {
    "duration": 4,
    "start_time": "2021-06-28T20:10:28.162Z"
   },
   {
    "duration": 6,
    "start_time": "2021-06-28T20:10:34.402Z"
   },
   {
    "duration": 6,
    "start_time": "2021-06-28T20:11:09.431Z"
   },
   {
    "duration": 287,
    "start_time": "2021-06-28T20:12:03.085Z"
   },
   {
    "duration": 270,
    "start_time": "2021-06-28T20:14:56.527Z"
   },
   {
    "duration": 7,
    "start_time": "2021-06-28T20:15:09.754Z"
   },
   {
    "duration": 272,
    "start_time": "2021-06-28T20:16:32.261Z"
   },
   {
    "duration": 263,
    "start_time": "2021-06-28T20:16:45.445Z"
   },
   {
    "duration": 122,
    "start_time": "2021-06-28T20:21:05.954Z"
   },
   {
    "duration": 268,
    "start_time": "2021-06-28T20:21:37.668Z"
   },
   {
    "duration": 16,
    "start_time": "2021-06-28T20:22:27.451Z"
   },
   {
    "duration": 18,
    "start_time": "2021-06-28T20:22:38.125Z"
   },
   {
    "duration": 17,
    "start_time": "2021-06-28T20:22:49.614Z"
   },
   {
    "duration": 9,
    "start_time": "2021-06-28T20:23:31.181Z"
   },
   {
    "duration": 288,
    "start_time": "2021-06-28T20:23:47.608Z"
   },
   {
    "duration": 10,
    "start_time": "2021-06-28T20:24:02.772Z"
   },
   {
    "duration": 18,
    "start_time": "2021-06-28T20:25:00.170Z"
   },
   {
    "duration": 268,
    "start_time": "2021-06-28T20:25:22.319Z"
   },
   {
    "duration": 435,
    "start_time": "2021-06-28T20:27:17.495Z"
   },
   {
    "duration": 8,
    "start_time": "2021-06-28T20:27:43.573Z"
   },
   {
    "duration": 270,
    "start_time": "2021-06-28T20:28:00.732Z"
   },
   {
    "duration": 284,
    "start_time": "2021-06-28T20:28:20.813Z"
   },
   {
    "duration": 282,
    "start_time": "2021-06-28T20:28:59.800Z"
   },
   {
    "duration": 94,
    "start_time": "2021-06-28T20:31:25.795Z"
   },
   {
    "duration": 298,
    "start_time": "2021-06-28T20:31:51.896Z"
   },
   {
    "duration": 280,
    "start_time": "2021-06-28T20:31:57.435Z"
   },
   {
    "duration": 298,
    "start_time": "2021-06-28T20:32:11.496Z"
   },
   {
    "duration": 302,
    "start_time": "2021-06-28T20:32:25.159Z"
   },
   {
    "duration": 269,
    "start_time": "2021-06-28T20:34:10.232Z"
   },
   {
    "duration": 268,
    "start_time": "2021-06-28T20:34:15.884Z"
   },
   {
    "duration": 10,
    "start_time": "2021-06-28T20:34:37.182Z"
   },
   {
    "duration": 273,
    "start_time": "2021-06-28T20:35:04.501Z"
   },
   {
    "duration": 277,
    "start_time": "2021-06-28T20:35:14.643Z"
   },
   {
    "duration": 301,
    "start_time": "2021-06-28T20:35:49.402Z"
   },
   {
    "duration": 7,
    "start_time": "2021-06-28T20:37:13.800Z"
   },
   {
    "duration": 274,
    "start_time": "2021-06-28T20:39:08.687Z"
   },
   {
    "duration": 310,
    "start_time": "2021-06-28T20:39:18.519Z"
   },
   {
    "duration": 86,
    "start_time": "2021-06-28T20:41:35.103Z"
   },
   {
    "duration": 280,
    "start_time": "2021-06-28T20:41:40.621Z"
   },
   {
    "duration": 4,
    "start_time": "2021-06-28T20:43:42.593Z"
   },
   {
    "duration": 7,
    "start_time": "2021-06-28T20:43:51.777Z"
   },
   {
    "duration": 7,
    "start_time": "2021-06-28T20:43:59.449Z"
   },
   {
    "duration": 7,
    "start_time": "2021-06-28T20:44:13.538Z"
   },
   {
    "duration": 6,
    "start_time": "2021-06-28T20:47:04.143Z"
   },
   {
    "duration": 7,
    "start_time": "2021-06-28T20:48:54.974Z"
   },
   {
    "duration": 522,
    "start_time": "2021-06-28T20:51:03.660Z"
   },
   {
    "duration": 469,
    "start_time": "2021-06-28T20:59:15.200Z"
   },
   {
    "duration": 9,
    "start_time": "2021-06-28T21:05:07.344Z"
   },
   {
    "duration": 138,
    "start_time": "2021-06-28T21:07:28.875Z"
   },
   {
    "duration": 1406,
    "start_time": "2021-06-28T21:07:41.198Z"
   },
   {
    "duration": 432,
    "start_time": "2021-06-28T21:07:42.606Z"
   },
   {
    "duration": 142,
    "start_time": "2021-06-28T21:07:43.041Z"
   },
   {
    "duration": 524,
    "start_time": "2021-06-28T21:07:43.186Z"
   },
   {
    "duration": 14,
    "start_time": "2021-06-28T21:07:43.712Z"
   },
   {
    "duration": 91,
    "start_time": "2021-06-28T21:07:43.728Z"
   },
   {
    "duration": 309,
    "start_time": "2021-06-28T21:07:43.512Z"
   },
   {
    "duration": 424,
    "start_time": "2021-06-28T21:07:51.035Z"
   },
   {
    "duration": 445,
    "start_time": "2021-06-28T21:08:34.599Z"
   },
   {
    "duration": 291,
    "start_time": "2021-06-28T21:09:14.088Z"
   },
   {
    "duration": 8,
    "start_time": "2021-06-28T21:09:27.883Z"
   },
   {
    "duration": 10,
    "start_time": "2021-06-28T21:09:37.699Z"
   },
   {
    "duration": 7145,
    "start_time": "2021-06-28T21:09:57.221Z"
   },
   {
    "duration": 10,
    "start_time": "2021-06-28T21:10:36.863Z"
   },
   {
    "duration": 409,
    "start_time": "2021-06-28T21:11:11.921Z"
   },
   {
    "duration": 402,
    "start_time": "2021-06-28T21:11:28.524Z"
   },
   {
    "duration": 12,
    "start_time": "2021-06-28T21:12:11.461Z"
   },
   {
    "duration": 14,
    "start_time": "2021-06-28T21:12:26.061Z"
   },
   {
    "duration": 17,
    "start_time": "2021-06-28T21:12:42.556Z"
   },
   {
    "duration": 18,
    "start_time": "2021-06-28T21:13:23.964Z"
   },
   {
    "duration": 18,
    "start_time": "2021-06-28T21:14:40.878Z"
   },
   {
    "duration": 22,
    "start_time": "2021-06-28T21:15:07.325Z"
   },
   {
    "duration": 22,
    "start_time": "2021-06-28T21:15:52.799Z"
   },
   {
    "duration": 23,
    "start_time": "2021-06-28T21:16:31.794Z"
   },
   {
    "duration": 25,
    "start_time": "2021-06-28T21:18:14.153Z"
   },
   {
    "duration": 26,
    "start_time": "2021-06-28T21:22:48.823Z"
   },
   {
    "duration": 26,
    "start_time": "2021-06-28T21:22:53.986Z"
   },
   {
    "duration": 26,
    "start_time": "2021-06-28T21:23:13.797Z"
   },
   {
    "duration": 1362,
    "start_time": "2021-06-28T21:23:21.548Z"
   },
   {
    "duration": 411,
    "start_time": "2021-06-28T21:23:22.913Z"
   },
   {
    "duration": 242,
    "start_time": "2021-06-28T21:23:23.327Z"
   },
   {
    "duration": 519,
    "start_time": "2021-06-28T21:23:23.572Z"
   },
   {
    "duration": 7,
    "start_time": "2021-06-28T21:23:24.093Z"
   },
   {
    "duration": 47,
    "start_time": "2021-06-28T21:23:24.102Z"
   },
   {
    "duration": 12,
    "start_time": "2021-06-28T21:23:24.152Z"
   },
   {
    "duration": 26,
    "start_time": "2021-06-28T21:27:35.093Z"
   },
   {
    "duration": 6,
    "start_time": "2021-06-28T21:33:14.470Z"
   },
   {
    "duration": 7212,
    "start_time": "2021-06-28T21:37:24.927Z"
   },
   {
    "duration": 7114,
    "start_time": "2021-06-28T21:38:43.090Z"
   },
   {
    "duration": 25,
    "start_time": "2021-06-28T21:39:09.100Z"
   },
   {
    "duration": 291,
    "start_time": "2021-06-28T21:39:39.230Z"
   },
   {
    "duration": 295,
    "start_time": "2021-06-28T21:40:06.463Z"
   },
   {
    "duration": 26,
    "start_time": "2021-06-28T21:40:21.017Z"
   },
   {
    "duration": 25,
    "start_time": "2021-06-28T21:41:01.970Z"
   },
   {
    "duration": 1404,
    "start_time": "2021-06-28T21:41:10.813Z"
   },
   {
    "duration": 425,
    "start_time": "2021-06-28T21:41:12.219Z"
   },
   {
    "duration": 154,
    "start_time": "2021-06-28T21:41:12.647Z"
   },
   {
    "duration": 545,
    "start_time": "2021-06-28T21:41:12.804Z"
   },
   {
    "duration": 7,
    "start_time": "2021-06-28T21:41:13.352Z"
   },
   {
    "duration": 477,
    "start_time": "2021-06-28T21:41:13.362Z"
   },
   {
    "duration": 201,
    "start_time": "2021-06-28T21:41:13.640Z"
   },
   {
    "duration": 491,
    "start_time": "2021-06-28T21:41:29.945Z"
   },
   {
    "duration": 26,
    "start_time": "2021-06-28T21:41:47.551Z"
   },
   {
    "duration": 6,
    "start_time": "2021-06-28T21:42:58.894Z"
   },
   {
    "duration": 1518,
    "start_time": "2021-06-28T21:48:00.002Z"
   },
   {
    "duration": 405,
    "start_time": "2021-06-28T21:48:01.522Z"
   },
   {
    "duration": 146,
    "start_time": "2021-06-28T21:48:01.930Z"
   },
   {
    "duration": 524,
    "start_time": "2021-06-28T21:48:02.078Z"
   },
   {
    "duration": 6,
    "start_time": "2021-06-28T21:48:02.605Z"
   },
   {
    "duration": 25,
    "start_time": "2021-06-28T21:48:02.625Z"
   },
   {
    "duration": 7,
    "start_time": "2021-06-28T21:48:02.652Z"
   },
   {
    "duration": 7,
    "start_time": "2021-06-28T21:53:59.371Z"
   },
   {
    "duration": 405,
    "start_time": "2021-06-28T21:54:26.557Z"
   },
   {
    "duration": 9,
    "start_time": "2021-06-28T21:57:21.898Z"
   },
   {
    "duration": 12,
    "start_time": "2021-06-28T21:57:47.664Z"
   },
   {
    "duration": 12,
    "start_time": "2021-06-28T21:58:15.137Z"
   },
   {
    "duration": 279,
    "start_time": "2021-06-28T21:59:12.237Z"
   },
   {
    "duration": 9,
    "start_time": "2021-06-28T21:59:28.216Z"
   },
   {
    "duration": 3439,
    "start_time": "2021-06-28T21:59:38.830Z"
   },
   {
    "duration": 3528,
    "start_time": "2021-06-28T21:59:50.479Z"
   },
   {
    "duration": 5,
    "start_time": "2021-06-28T22:00:12.397Z"
   },
   {
    "duration": 16,
    "start_time": "2021-06-28T22:00:22.047Z"
   },
   {
    "duration": 15,
    "start_time": "2021-06-28T22:00:32.862Z"
   },
   {
    "duration": 25,
    "start_time": "2021-06-28T22:00:32.879Z"
   },
   {
    "duration": 6,
    "start_time": "2021-06-28T22:00:32.906Z"
   },
   {
    "duration": 9,
    "start_time": "2021-06-28T22:01:04.147Z"
   },
   {
    "duration": 11,
    "start_time": "2021-06-28T22:01:15.259Z"
   },
   {
    "duration": 10,
    "start_time": "2021-06-28T22:01:25.795Z"
   },
   {
    "duration": 25,
    "start_time": "2021-06-28T22:02:48.586Z"
   },
   {
    "duration": 25,
    "start_time": "2021-06-28T22:02:59.725Z"
   },
   {
    "duration": 25,
    "start_time": "2021-06-28T22:02:59.753Z"
   },
   {
    "duration": 6,
    "start_time": "2021-06-28T22:02:59.780Z"
   },
   {
    "duration": 33,
    "start_time": "2021-06-28T22:03:17.257Z"
   },
   {
    "duration": 26,
    "start_time": "2021-06-28T22:03:45.437Z"
   },
   {
    "duration": 1346,
    "start_time": "2021-06-28T22:04:52.864Z"
   },
   {
    "duration": 409,
    "start_time": "2021-06-28T22:04:54.212Z"
   },
   {
    "duration": 143,
    "start_time": "2021-06-28T22:04:54.625Z"
   },
   {
    "duration": 524,
    "start_time": "2021-06-28T22:04:54.771Z"
   },
   {
    "duration": 7,
    "start_time": "2021-06-28T22:04:55.297Z"
   },
   {
    "duration": 39,
    "start_time": "2021-06-28T22:04:55.307Z"
   },
   {
    "duration": 28,
    "start_time": "2021-06-28T22:04:55.349Z"
   },
   {
    "duration": 49,
    "start_time": "2021-06-28T22:04:55.380Z"
   },
   {
    "duration": 4,
    "start_time": "2021-06-28T22:07:49.783Z"
   },
   {
    "duration": 456,
    "start_time": "2021-06-28T22:07:49.789Z"
   },
   {
    "duration": 144,
    "start_time": "2021-06-28T22:07:50.249Z"
   },
   {
    "duration": 544,
    "start_time": "2021-06-28T22:07:50.396Z"
   },
   {
    "duration": 7,
    "start_time": "2021-06-28T22:07:50.942Z"
   },
   {
    "duration": 27,
    "start_time": "2021-06-28T22:08:04.276Z"
   },
   {
    "duration": 7222,
    "start_time": "2021-06-28T22:09:12.974Z"
   },
   {
    "duration": 25,
    "start_time": "2021-06-28T22:10:00.224Z"
   },
   {
    "duration": 1793,
    "start_time": "2021-06-29T14:52:34.940Z"
   },
   {
    "duration": 407,
    "start_time": "2021-06-29T14:52:36.736Z"
   },
   {
    "duration": 138,
    "start_time": "2021-06-29T14:52:37.154Z"
   },
   {
    "duration": 503,
    "start_time": "2021-06-29T14:52:37.294Z"
   },
   {
    "duration": 6,
    "start_time": "2021-06-29T14:52:37.799Z"
   },
   {
    "duration": 47,
    "start_time": "2021-06-29T14:52:37.807Z"
   },
   {
    "duration": 25,
    "start_time": "2021-06-29T14:52:37.857Z"
   },
   {
    "duration": 6,
    "start_time": "2021-06-29T14:52:37.885Z"
   },
   {
    "duration": 346,
    "start_time": "2021-06-29T19:04:40.832Z"
   },
   {
    "duration": 1413,
    "start_time": "2021-06-29T19:04:51.968Z"
   },
   {
    "duration": 400,
    "start_time": "2021-06-29T19:04:53.383Z"
   },
   {
    "duration": 139,
    "start_time": "2021-06-29T19:04:53.786Z"
   },
   {
    "duration": 510,
    "start_time": "2021-06-29T19:04:53.927Z"
   },
   {
    "duration": 7,
    "start_time": "2021-06-29T19:04:54.439Z"
   },
   {
    "duration": 50,
    "start_time": "2021-06-29T19:04:54.448Z"
   },
   {
    "duration": 25,
    "start_time": "2021-06-29T19:04:54.500Z"
   },
   {
    "duration": 6,
    "start_time": "2021-06-29T19:04:54.528Z"
   },
   {
    "duration": 1358,
    "start_time": "2021-06-29T19:05:08.513Z"
   },
   {
    "duration": 36,
    "start_time": "2021-06-29T19:05:41.620Z"
   },
   {
    "duration": 26,
    "start_time": "2021-06-29T19:05:45.112Z"
   },
   {
    "duration": 1430,
    "start_time": "2021-06-29T19:07:02.326Z"
   },
   {
    "duration": 342,
    "start_time": "2021-06-29T19:07:03.758Z"
   },
   {
    "duration": 139,
    "start_time": "2021-06-29T19:07:04.103Z"
   },
   {
    "duration": 441,
    "start_time": "2021-06-29T19:07:04.245Z"
   },
   {
    "duration": 7,
    "start_time": "2021-06-29T19:07:04.688Z"
   },
   {
    "duration": 44,
    "start_time": "2021-06-29T19:07:04.698Z"
   },
   {
    "duration": 41,
    "start_time": "2021-06-29T19:07:04.744Z"
   },
   {
    "duration": 6,
    "start_time": "2021-06-29T19:07:04.787Z"
   },
   {
    "duration": 7,
    "start_time": "2021-06-29T19:09:37.218Z"
   },
   {
    "duration": 88,
    "start_time": "2021-06-29T19:14:16.082Z"
   },
   {
    "duration": 6,
    "start_time": "2021-06-29T19:14:20.059Z"
   },
   {
    "duration": 5,
    "start_time": "2021-06-29T19:14:29.817Z"
   },
   {
    "duration": 8168,
    "start_time": "2021-06-29T19:14:52.056Z"
   },
   {
    "duration": 5,
    "start_time": "2021-06-29T19:15:11.008Z"
   },
   {
    "duration": 7,
    "start_time": "2021-06-29T19:15:18.725Z"
   },
   {
    "duration": 9,
    "start_time": "2021-06-29T19:17:37.071Z"
   },
   {
    "duration": 10,
    "start_time": "2021-06-29T19:18:12.571Z"
   },
   {
    "duration": 10,
    "start_time": "2021-06-29T19:18:22.324Z"
   },
   {
    "duration": 17,
    "start_time": "2021-06-29T19:19:12.790Z"
   },
   {
    "duration": 16,
    "start_time": "2021-06-29T19:20:01.445Z"
   },
   {
    "duration": 17,
    "start_time": "2021-06-29T19:24:52.270Z"
   },
   {
    "duration": 230733,
    "start_time": "2021-06-29T19:28:45.020Z"
   },
   {
    "duration": 362,
    "start_time": "2021-06-29T19:34:04.662Z"
   },
   {
    "duration": 368,
    "start_time": "2021-06-29T19:34:16.628Z"
   },
   {
    "duration": 295,
    "start_time": "2021-06-29T19:36:02.601Z"
   },
   {
    "duration": 367,
    "start_time": "2021-06-29T19:36:17.037Z"
   },
   {
    "duration": 359,
    "start_time": "2021-06-29T19:37:16.597Z"
   },
   {
    "duration": 441,
    "start_time": "2021-06-29T19:37:51.102Z"
   },
   {
    "duration": 457,
    "start_time": "2021-06-29T19:39:19.449Z"
   },
   {
    "duration": 539,
    "start_time": "2021-06-29T19:41:52.361Z"
   },
   {
    "duration": 716,
    "start_time": "2021-06-29T19:42:39.415Z"
   },
   {
    "duration": 773,
    "start_time": "2021-06-29T19:42:53.906Z"
   },
   {
    "duration": 692,
    "start_time": "2021-06-29T19:43:12.796Z"
   },
   {
    "duration": 456,
    "start_time": "2021-06-29T19:43:18.924Z"
   },
   {
    "duration": 485,
    "start_time": "2021-06-29T19:43:58.769Z"
   },
   {
    "duration": 16,
    "start_time": "2021-06-29T19:45:29.813Z"
   },
   {
    "duration": 1372,
    "start_time": "2021-06-29T19:45:39.506Z"
   },
   {
    "duration": 372,
    "start_time": "2021-06-29T19:45:40.880Z"
   },
   {
    "duration": 146,
    "start_time": "2021-06-29T19:45:41.254Z"
   },
   {
    "duration": 473,
    "start_time": "2021-06-29T19:45:41.403Z"
   },
   {
    "duration": 6,
    "start_time": "2021-06-29T19:45:41.879Z"
   },
   {
    "duration": 20,
    "start_time": "2021-06-29T19:45:41.888Z"
   },
   {
    "duration": 27,
    "start_time": "2021-06-29T19:45:41.910Z"
   },
   {
    "duration": 20,
    "start_time": "2021-06-29T19:45:41.968Z"
   },
   {
    "duration": 421,
    "start_time": "2021-06-29T19:45:41.990Z"
   },
   {
    "duration": 6,
    "start_time": "2021-06-29T19:52:30.799Z"
   },
   {
    "duration": 9,
    "start_time": "2021-06-29T19:54:16.249Z"
   },
   {
    "duration": 9,
    "start_time": "2021-06-29T19:54:39.314Z"
   },
   {
    "duration": 7487,
    "start_time": "2021-06-29T19:56:27.876Z"
   },
   {
    "duration": 8032,
    "start_time": "2021-06-29T19:57:25.106Z"
   },
   {
    "duration": 11,
    "start_time": "2021-06-29T19:57:42.397Z"
   },
   {
    "duration": 12,
    "start_time": "2021-06-29T19:59:12.648Z"
   },
   {
    "duration": 14,
    "start_time": "2021-06-29T20:00:46.432Z"
   },
   {
    "duration": 13,
    "start_time": "2021-06-29T20:02:05.155Z"
   },
   {
    "duration": 313,
    "start_time": "2021-06-29T20:21:24.671Z"
   },
   {
    "duration": 16,
    "start_time": "2021-06-29T20:24:14.519Z"
   },
   {
    "duration": 12,
    "start_time": "2021-06-29T20:26:17.347Z"
   },
   {
    "duration": 1587,
    "start_time": "2021-06-29T20:31:20.942Z"
   },
   {
    "duration": 379,
    "start_time": "2021-06-29T20:31:22.532Z"
   },
   {
    "duration": 151,
    "start_time": "2021-06-29T20:31:22.914Z"
   },
   {
    "duration": 467,
    "start_time": "2021-06-29T20:31:23.068Z"
   },
   {
    "duration": 7,
    "start_time": "2021-06-29T20:31:23.537Z"
   },
   {
    "duration": 32,
    "start_time": "2021-06-29T20:31:23.547Z"
   },
   {
    "duration": 26,
    "start_time": "2021-06-29T20:31:23.581Z"
   },
   {
    "duration": 16,
    "start_time": "2021-06-29T20:31:23.609Z"
   },
   {
    "duration": 361,
    "start_time": "2021-06-29T20:31:23.629Z"
   },
   {
    "duration": 12,
    "start_time": "2021-06-29T20:31:23.993Z"
   },
   {
    "duration": 5,
    "start_time": "2021-06-29T20:31:24.007Z"
   },
   {
    "duration": 16,
    "start_time": "2021-06-29T20:31:24.015Z"
   },
   {
    "duration": 453,
    "start_time": "2021-06-29T20:31:24.033Z"
   },
   {
    "duration": 370,
    "start_time": "2021-06-29T20:32:10.707Z"
   },
   {
    "duration": 9,
    "start_time": "2021-06-29T20:32:29.466Z"
   },
   {
    "duration": 534,
    "start_time": "2021-06-29T20:32:33.325Z"
   },
   {
    "duration": 427,
    "start_time": "2021-06-30T13:33:23.342Z"
   },
   {
    "duration": 1630,
    "start_time": "2021-06-30T13:33:32.759Z"
   },
   {
    "duration": 1401,
    "start_time": "2021-06-30T13:33:34.391Z"
   },
   {
    "duration": 2329,
    "start_time": "2021-06-30T13:33:35.795Z"
   },
   {
    "duration": 3092,
    "start_time": "2021-06-30T13:33:38.127Z"
   },
   {
    "duration": 9,
    "start_time": "2021-06-30T13:33:41.222Z"
   },
   {
    "duration": 25,
    "start_time": "2021-06-30T13:33:41.234Z"
   },
   {
    "duration": 30,
    "start_time": "2021-06-30T13:33:41.261Z"
   },
   {
    "duration": 47,
    "start_time": "2021-06-30T13:33:41.294Z"
   },
   {
    "duration": 342,
    "start_time": "2021-06-30T13:33:41.346Z"
   },
   {
    "duration": 12,
    "start_time": "2021-06-30T13:33:41.691Z"
   },
   {
    "duration": 7,
    "start_time": "2021-06-30T13:33:41.724Z"
   },
   {
    "duration": 14,
    "start_time": "2021-06-30T13:33:41.734Z"
   },
   {
    "duration": 614,
    "start_time": "2021-06-30T13:33:41.751Z"
   },
   {
    "duration": 727,
    "start_time": "2021-06-30T13:33:54.875Z"
   },
   {
    "duration": 17,
    "start_time": "2021-06-30T13:36:12.037Z"
   },
   {
    "duration": 27,
    "start_time": "2021-06-30T13:36:13.990Z"
   },
   {
    "duration": 27,
    "start_time": "2021-06-30T13:37:51.813Z"
   },
   {
    "duration": 11,
    "start_time": "2021-06-30T13:38:03.666Z"
   },
   {
    "duration": 299,
    "start_time": "2021-06-30T13:50:40.864Z"
   },
   {
    "duration": 8010,
    "start_time": "2021-06-30T13:52:00.970Z"
   },
   {
    "duration": 292,
    "start_time": "2021-06-30T13:53:12.388Z"
   },
   {
    "duration": 25,
    "start_time": "2021-06-30T13:53:24.783Z"
   },
   {
    "duration": 288,
    "start_time": "2021-06-30T13:53:44.442Z"
   },
   {
    "duration": 280,
    "start_time": "2021-06-30T13:53:49.290Z"
   },
   {
    "duration": 275,
    "start_time": "2021-06-30T13:53:55.804Z"
   },
   {
    "duration": 367,
    "start_time": "2021-06-30T13:54:33.126Z"
   },
   {
    "duration": 22,
    "start_time": "2021-06-30T13:55:19.252Z"
   },
   {
    "duration": 106,
    "start_time": "2021-06-30T13:56:09.191Z"
   },
   {
    "duration": 57,
    "start_time": "2021-06-30T13:57:12.595Z"
   },
   {
    "duration": 461,
    "start_time": "2021-06-30T14:00:17.234Z"
   },
   {
    "duration": 4,
    "start_time": "2021-06-30T14:00:23.709Z"
   },
   {
    "duration": 399,
    "start_time": "2021-06-30T14:00:23.716Z"
   },
   {
    "duration": 113,
    "start_time": "2021-06-30T14:00:24.118Z"
   },
   {
    "duration": 477,
    "start_time": "2021-06-30T14:00:24.234Z"
   },
   {
    "duration": 15,
    "start_time": "2021-06-30T14:00:24.714Z"
   },
   {
    "duration": 27,
    "start_time": "2021-06-30T14:00:24.732Z"
   },
   {
    "duration": 28,
    "start_time": "2021-06-30T14:00:24.761Z"
   },
   {
    "duration": 40,
    "start_time": "2021-06-30T14:00:24.791Z"
   },
   {
    "duration": 465,
    "start_time": "2021-06-30T14:00:24.835Z"
   },
   {
    "duration": 22,
    "start_time": "2021-06-30T14:00:25.303Z"
   },
   {
    "duration": 24,
    "start_time": "2021-06-30T14:00:25.328Z"
   },
   {
    "duration": 27,
    "start_time": "2021-06-30T14:00:25.354Z"
   },
   {
    "duration": 27,
    "start_time": "2021-06-30T14:00:25.383Z"
   },
   {
    "duration": 302,
    "start_time": "2021-06-30T14:00:36.670Z"
   },
   {
    "duration": -149,
    "start_time": "2021-06-30T14:00:37.124Z"
   },
   {
    "duration": 8,
    "start_time": "2021-06-30T14:00:47.913Z"
   },
   {
    "duration": 414,
    "start_time": "2021-06-30T14:00:50.443Z"
   },
   {
    "duration": 446,
    "start_time": "2021-06-30T14:02:47.723Z"
   },
   {
    "duration": 2002,
    "start_time": "2021-06-30T14:04:52.246Z"
   },
   {
    "duration": 293,
    "start_time": "2021-06-30T14:05:02.824Z"
   },
   {
    "duration": 296,
    "start_time": "2021-06-30T14:06:01.768Z"
   },
   {
    "duration": 278,
    "start_time": "2021-06-30T14:07:29.075Z"
   },
   {
    "duration": 8105,
    "start_time": "2021-06-30T14:08:01.754Z"
   },
   {
    "duration": 299,
    "start_time": "2021-06-30T14:12:16.315Z"
   },
   {
    "duration": 17,
    "start_time": "2021-06-30T14:12:30.272Z"
   },
   {
    "duration": 339,
    "start_time": "2021-06-30T14:14:07.327Z"
   },
   {
    "duration": 415,
    "start_time": "2021-06-30T14:14:14.279Z"
   },
   {
    "duration": 387,
    "start_time": "2021-06-30T14:14:23.543Z"
   },
   {
    "duration": 421,
    "start_time": "2021-06-30T14:14:51.375Z"
   },
   {
    "duration": 410,
    "start_time": "2021-06-30T14:19:19.527Z"
   },
   {
    "duration": 115,
    "start_time": "2021-06-30T14:19:32.986Z"
   },
   {
    "duration": 123,
    "start_time": "2021-06-30T14:20:03.613Z"
   },
   {
    "duration": 296,
    "start_time": "2021-06-30T14:22:29.669Z"
   },
   {
    "duration": 307,
    "start_time": "2021-06-30T14:22:43.273Z"
   },
   {
    "duration": 313,
    "start_time": "2021-06-30T14:22:54.191Z"
   },
   {
    "duration": 338,
    "start_time": "2021-06-30T14:28:18.426Z"
   },
   {
    "duration": 338,
    "start_time": "2021-06-30T14:30:09.593Z"
   },
   {
    "duration": 322,
    "start_time": "2021-06-30T14:30:26.719Z"
   },
   {
    "duration": 386,
    "start_time": "2021-06-30T14:30:36.664Z"
   },
   {
    "duration": 97,
    "start_time": "2021-06-30T14:33:59.112Z"
   },
   {
    "duration": 110,
    "start_time": "2021-06-30T14:34:09.046Z"
   },
   {
    "duration": 91,
    "start_time": "2021-06-30T14:34:18.840Z"
   },
   {
    "duration": 578,
    "start_time": "2021-06-30T14:34:28.744Z"
   },
   {
    "duration": 680,
    "start_time": "2021-06-30T14:34:53.000Z"
   },
   {
    "duration": 30,
    "start_time": "2021-06-30T14:36:26.404Z"
   },
   {
    "duration": 7,
    "start_time": "2021-06-30T14:36:58.676Z"
   },
   {
    "duration": 9,
    "start_time": "2021-06-30T14:37:08.352Z"
   },
   {
    "duration": 290,
    "start_time": "2021-06-30T14:38:24.407Z"
   },
   {
    "duration": 7,
    "start_time": "2021-06-30T14:38:35.538Z"
   },
   {
    "duration": 10,
    "start_time": "2021-06-30T14:38:59.298Z"
   },
   {
    "duration": 12,
    "start_time": "2021-06-30T14:39:28.844Z"
   },
   {
    "duration": 8,
    "start_time": "2021-06-30T14:40:29.143Z"
   },
   {
    "duration": 385,
    "start_time": "2021-06-30T14:40:29.154Z"
   },
   {
    "duration": 9,
    "start_time": "2021-06-30T14:41:50.304Z"
   },
   {
    "duration": 12,
    "start_time": "2021-06-30T14:42:22.992Z"
   },
   {
    "duration": 7,
    "start_time": "2021-06-30T14:42:34.312Z"
   },
   {
    "duration": 6865,
    "start_time": "2021-06-30T14:43:04.020Z"
   },
   {
    "duration": 5,
    "start_time": "2021-06-30T14:46:06.955Z"
   },
   {
    "duration": 370,
    "start_time": "2021-06-30T14:46:06.963Z"
   },
   {
    "duration": 110,
    "start_time": "2021-06-30T14:46:07.337Z"
   },
   {
    "duration": 464,
    "start_time": "2021-06-30T14:46:07.450Z"
   },
   {
    "duration": 12,
    "start_time": "2021-06-30T14:46:07.916Z"
   },
   {
    "duration": 24,
    "start_time": "2021-06-30T14:46:07.931Z"
   },
   {
    "duration": 30,
    "start_time": "2021-06-30T14:46:07.958Z"
   },
   {
    "duration": 44,
    "start_time": "2021-06-30T14:46:07.990Z"
   },
   {
    "duration": 504,
    "start_time": "2021-06-30T14:46:08.038Z"
   },
   {
    "duration": 13,
    "start_time": "2021-06-30T14:46:08.545Z"
   },
   {
    "duration": 16,
    "start_time": "2021-06-30T14:46:08.561Z"
   },
   {
    "duration": 33,
    "start_time": "2021-06-30T14:46:08.579Z"
   },
   {
    "duration": 37,
    "start_time": "2021-06-30T14:46:08.624Z"
   },
   {
    "duration": 10,
    "start_time": "2021-06-30T14:46:08.663Z"
   },
   {
    "duration": 2185,
    "start_time": "2021-06-30T14:46:18.024Z"
   },
   {
    "duration": 587,
    "start_time": "2021-06-30T14:46:20.213Z"
   },
   {
    "duration": 176,
    "start_time": "2021-06-30T14:46:20.810Z"
   },
   {
    "duration": 773,
    "start_time": "2021-06-30T14:46:20.990Z"
   },
   {
    "duration": 12,
    "start_time": "2021-06-30T14:46:21.766Z"
   },
   {
    "duration": 18,
    "start_time": "2021-06-30T14:46:21.781Z"
   },
   {
    "duration": 48,
    "start_time": "2021-06-30T14:46:21.801Z"
   },
   {
    "duration": 18,
    "start_time": "2021-06-30T14:46:21.853Z"
   },
   {
    "duration": 363,
    "start_time": "2021-06-30T14:46:21.874Z"
   },
   {
    "duration": 13,
    "start_time": "2021-06-30T14:46:22.240Z"
   },
   {
    "duration": 4,
    "start_time": "2021-06-30T14:46:22.256Z"
   },
   {
    "duration": 40,
    "start_time": "2021-06-30T14:46:22.263Z"
   },
   {
    "duration": 22,
    "start_time": "2021-06-30T14:46:22.325Z"
   },
   {
    "duration": 10,
    "start_time": "2021-06-30T14:46:22.350Z"
   },
   {
    "duration": 7046,
    "start_time": "2021-06-30T14:46:22.363Z"
   },
   {
    "duration": 472,
    "start_time": "2021-06-30T14:46:29.411Z"
   },
   {
    "duration": 130,
    "start_time": "2021-06-30T14:46:37.207Z"
   },
   {
    "duration": 267,
    "start_time": "2021-06-30T14:47:29.667Z"
   },
   {
    "duration": 208,
    "start_time": "2021-06-30T14:47:54.817Z"
   },
   {
    "duration": 7190,
    "start_time": "2021-06-30T14:48:12.385Z"
   },
   {
    "duration": 7024,
    "start_time": "2021-06-30T14:48:29.184Z"
   },
   {
    "duration": 11097,
    "start_time": "2021-06-30T14:48:46.657Z"
   },
   {
    "duration": 10276,
    "start_time": "2021-06-30T14:49:08.151Z"
   },
   {
    "duration": 6665,
    "start_time": "2021-06-30T14:53:34.777Z"
   },
   {
    "duration": 6717,
    "start_time": "2021-06-30T14:54:34.058Z"
   },
   {
    "duration": 13109,
    "start_time": "2021-06-30T14:56:49.690Z"
   },
   {
    "duration": 9,
    "start_time": "2021-06-30T15:01:35.684Z"
   },
   {
    "duration": 12,
    "start_time": "2021-06-30T15:01:47.323Z"
   },
   {
    "duration": 25,
    "start_time": "2021-06-30T15:02:06.646Z"
   },
   {
    "duration": 39,
    "start_time": "2021-06-30T15:02:33.538Z"
   },
   {
    "duration": 67,
    "start_time": "2021-06-30T15:05:58.632Z"
   },
   {
    "duration": 532,
    "start_time": "2021-06-30T15:07:13.371Z"
   },
   {
    "duration": 9,
    "start_time": "2021-06-30T15:12:12.057Z"
   },
   {
    "duration": 542,
    "start_time": "2021-06-30T15:13:12.656Z"
   },
   {
    "duration": 7439,
    "start_time": "2021-06-30T15:14:05.235Z"
   },
   {
    "duration": 7286,
    "start_time": "2021-06-30T15:17:14.944Z"
   },
   {
    "duration": 7875,
    "start_time": "2021-06-30T15:17:31.315Z"
   },
   {
    "duration": 28,
    "start_time": "2021-06-30T15:18:00.226Z"
   },
   {
    "duration": 49,
    "start_time": "2021-06-30T15:18:28.466Z"
   },
   {
    "duration": 42,
    "start_time": "2021-06-30T15:18:37.911Z"
   },
   {
    "duration": 46,
    "start_time": "2021-06-30T15:19:04.574Z"
   },
   {
    "duration": 42,
    "start_time": "2021-06-30T15:19:15.496Z"
   },
   {
    "duration": 41,
    "start_time": "2021-06-30T15:19:46.494Z"
   },
   {
    "duration": 42,
    "start_time": "2021-06-30T15:19:52.898Z"
   },
   {
    "duration": 23,
    "start_time": "2021-06-30T15:20:26.710Z"
   },
   {
    "duration": 1505,
    "start_time": "2021-06-30T15:20:33.278Z"
   },
   {
    "duration": 629,
    "start_time": "2021-06-30T15:20:34.786Z"
   },
   {
    "duration": 187,
    "start_time": "2021-06-30T15:20:35.419Z"
   },
   {
    "duration": 890,
    "start_time": "2021-06-30T15:20:35.609Z"
   },
   {
    "duration": 22,
    "start_time": "2021-06-30T15:20:36.502Z"
   },
   {
    "duration": 22,
    "start_time": "2021-06-30T15:20:36.528Z"
   },
   {
    "duration": 41,
    "start_time": "2021-06-30T15:20:36.553Z"
   },
   {
    "duration": 23,
    "start_time": "2021-06-30T15:20:36.628Z"
   },
   {
    "duration": 380,
    "start_time": "2021-06-30T15:20:36.654Z"
   },
   {
    "duration": 11,
    "start_time": "2021-06-30T15:20:37.037Z"
   },
   {
    "duration": 30,
    "start_time": "2021-06-30T15:20:37.051Z"
   },
   {
    "duration": 47,
    "start_time": "2021-06-30T15:20:37.083Z"
   },
   {
    "duration": 26,
    "start_time": "2021-06-30T15:20:37.133Z"
   },
   {
    "duration": 508,
    "start_time": "2021-06-30T15:20:37.162Z"
   },
   {
    "duration": -177,
    "start_time": "2021-06-30T15:20:37.851Z"
   },
   {
    "duration": -177,
    "start_time": "2021-06-30T15:20:37.853Z"
   },
   {
    "duration": -176,
    "start_time": "2021-06-30T15:20:37.854Z"
   },
   {
    "duration": 26,
    "start_time": "2021-06-30T15:21:00.145Z"
   },
   {
    "duration": 1621,
    "start_time": "2021-06-30T15:21:06.657Z"
   },
   {
    "duration": 436,
    "start_time": "2021-06-30T15:21:08.281Z"
   },
   {
    "duration": 112,
    "start_time": "2021-06-30T15:21:08.720Z"
   },
   {
    "duration": 836,
    "start_time": "2021-06-30T15:21:08.835Z"
   },
   {
    "duration": 10,
    "start_time": "2021-06-30T15:21:09.674Z"
   },
   {
    "duration": 46,
    "start_time": "2021-06-30T15:21:09.686Z"
   },
   {
    "duration": 42,
    "start_time": "2021-06-30T15:21:09.735Z"
   },
   {
    "duration": 48,
    "start_time": "2021-06-30T15:21:09.780Z"
   },
   {
    "duration": 528,
    "start_time": "2021-06-30T15:21:09.833Z"
   },
   {
    "duration": 18,
    "start_time": "2021-06-30T15:21:10.364Z"
   },
   {
    "duration": 17,
    "start_time": "2021-06-30T15:21:10.386Z"
   },
   {
    "duration": 46,
    "start_time": "2021-06-30T15:21:10.406Z"
   },
   {
    "duration": 35,
    "start_time": "2021-06-30T15:21:10.455Z"
   },
   {
    "duration": 47,
    "start_time": "2021-06-30T15:21:10.493Z"
   },
   {
    "duration": 758,
    "start_time": "2021-06-30T15:21:10.543Z"
   },
   {
    "duration": -139,
    "start_time": "2021-06-30T15:21:11.442Z"
   },
   {
    "duration": -140,
    "start_time": "2021-06-30T15:21:11.445Z"
   },
   {
    "duration": 52,
    "start_time": "2021-06-30T15:22:52.365Z"
   },
   {
    "duration": 11,
    "start_time": "2021-06-30T15:22:54.239Z"
   },
   {
    "duration": 22574,
    "start_time": "2021-06-30T15:22:57.976Z"
   },
   {
    "duration": 553,
    "start_time": "2021-06-30T15:23:36.503Z"
   },
   {
    "duration": 25213,
    "start_time": "2021-06-30T15:23:44.093Z"
   },
   {
    "duration": 146862,
    "start_time": "2021-06-30T15:24:12.134Z"
   },
   {
    "duration": 164,
    "start_time": "2021-06-30T15:26:39.470Z"
   },
   {
    "duration": 145,
    "start_time": "2021-06-30T15:26:41.480Z"
   },
   {
    "duration": 335595,
    "start_time": "2021-06-30T15:36:06.195Z"
   },
   {
    "duration": 37,
    "start_time": "2021-06-30T15:47:02.194Z"
   },
   {
    "duration": 53,
    "start_time": "2021-06-30T15:47:40.063Z"
   },
   {
    "duration": 47,
    "start_time": "2021-06-30T15:48:05.705Z"
   },
   {
    "duration": 47,
    "start_time": "2021-06-30T15:48:38.234Z"
   },
   {
    "duration": 10,
    "start_time": "2021-06-30T15:48:40.834Z"
   },
   {
    "duration": 1021,
    "start_time": "2021-06-30T15:48:43.651Z"
   },
   {
    "duration": 35,
    "start_time": "2021-06-30T15:49:50.832Z"
   },
   {
    "duration": 41,
    "start_time": "2021-06-30T15:52:32.965Z"
   },
   {
    "duration": 36,
    "start_time": "2021-06-30T15:52:56.061Z"
   },
   {
    "duration": 8,
    "start_time": "2021-06-30T15:52:58.130Z"
   },
   {
    "duration": 1562,
    "start_time": "2021-06-30T15:57:20.420Z"
   },
   {
    "duration": 374,
    "start_time": "2021-06-30T15:57:21.984Z"
   },
   {
    "duration": 179,
    "start_time": "2021-06-30T15:57:22.361Z"
   },
   {
    "duration": 843,
    "start_time": "2021-06-30T15:57:22.544Z"
   },
   {
    "duration": 11,
    "start_time": "2021-06-30T15:57:23.391Z"
   },
   {
    "duration": 41,
    "start_time": "2021-06-30T15:57:23.405Z"
   },
   {
    "duration": 40,
    "start_time": "2021-06-30T15:57:23.450Z"
   },
   {
    "duration": 52,
    "start_time": "2021-06-30T15:57:23.494Z"
   },
   {
    "duration": 562,
    "start_time": "2021-06-30T15:57:23.550Z"
   },
   {
    "duration": 24,
    "start_time": "2021-06-30T15:57:24.116Z"
   },
   {
    "duration": 8,
    "start_time": "2021-06-30T15:57:24.143Z"
   },
   {
    "duration": 29,
    "start_time": "2021-06-30T15:57:24.154Z"
   },
   {
    "duration": 72,
    "start_time": "2021-06-30T15:57:24.186Z"
   },
   {
    "duration": 11,
    "start_time": "2021-06-30T15:57:24.261Z"
   },
   {
    "duration": 11875,
    "start_time": "2021-06-30T15:57:24.275Z"
   },
   {
    "duration": 1071,
    "start_time": "2021-06-30T15:57:36.153Z"
   },
   {
    "duration": 303,
    "start_time": "2021-06-30T15:57:37.228Z"
   },
   {
    "duration": 42,
    "start_time": "2021-06-30T15:58:22.966Z"
   },
   {
    "duration": 65,
    "start_time": "2021-06-30T15:59:36.452Z"
   },
   {
    "duration": 86,
    "start_time": "2021-06-30T16:00:08.856Z"
   },
   {
    "duration": 69,
    "start_time": "2021-06-30T16:00:30.968Z"
   },
   {
    "duration": 7071,
    "start_time": "2021-06-30T16:01:06.742Z"
   },
   {
    "duration": 144,
    "start_time": "2021-06-30T16:01:36.350Z"
   },
   {
    "duration": 95,
    "start_time": "2021-06-30T16:01:53.286Z"
   },
   {
    "duration": 45,
    "start_time": "2021-06-30T16:02:01.483Z"
   },
   {
    "duration": 42,
    "start_time": "2021-06-30T16:02:09.193Z"
   },
   {
    "duration": 43,
    "start_time": "2021-06-30T16:02:18.833Z"
   },
   {
    "duration": 44,
    "start_time": "2021-06-30T16:02:32.112Z"
   },
   {
    "duration": 43,
    "start_time": "2021-06-30T16:02:40.134Z"
   },
   {
    "duration": 47,
    "start_time": "2021-06-30T16:02:45.252Z"
   },
   {
    "duration": 63,
    "start_time": "2021-06-30T16:02:48.501Z"
   },
   {
    "duration": 43,
    "start_time": "2021-06-30T16:02:53.021Z"
   },
   {
    "duration": 45,
    "start_time": "2021-06-30T16:03:08.102Z"
   },
   {
    "duration": 48,
    "start_time": "2021-06-30T16:03:18.795Z"
   },
   {
    "duration": 43,
    "start_time": "2021-06-30T16:03:25.815Z"
   },
   {
    "duration": 47,
    "start_time": "2021-06-30T16:03:48.591Z"
   },
   {
    "duration": 47,
    "start_time": "2021-06-30T16:03:53.784Z"
   },
   {
    "duration": 43,
    "start_time": "2021-06-30T16:03:58.023Z"
   },
   {
    "duration": 44,
    "start_time": "2021-06-30T16:04:01.677Z"
   },
   {
    "duration": 43,
    "start_time": "2021-06-30T16:04:05.109Z"
   },
   {
    "duration": 44,
    "start_time": "2021-06-30T16:04:10.020Z"
   },
   {
    "duration": 44,
    "start_time": "2021-06-30T16:04:15.560Z"
   },
   {
    "duration": 45,
    "start_time": "2021-06-30T16:04:23.806Z"
   },
   {
    "duration": 46,
    "start_time": "2021-06-30T16:04:43.227Z"
   },
   {
    "duration": 44,
    "start_time": "2021-06-30T16:04:50.740Z"
   },
   {
    "duration": 44,
    "start_time": "2021-06-30T16:05:07.196Z"
   },
   {
    "duration": 30,
    "start_time": "2021-06-30T16:06:26.536Z"
   },
   {
    "duration": 195,
    "start_time": "2021-06-30T16:06:32.333Z"
   },
   {
    "duration": 362,
    "start_time": "2021-06-30T16:06:34.066Z"
   },
   {
    "duration": 1570,
    "start_time": "2021-06-30T16:10:42.216Z"
   },
   {
    "duration": 369,
    "start_time": "2021-06-30T16:10:43.789Z"
   },
   {
    "duration": 152,
    "start_time": "2021-06-30T16:10:44.161Z"
   },
   {
    "duration": 520,
    "start_time": "2021-06-30T16:10:44.317Z"
   },
   {
    "duration": 9,
    "start_time": "2021-06-30T16:10:44.840Z"
   },
   {
    "duration": 21,
    "start_time": "2021-06-30T16:10:44.852Z"
   },
   {
    "duration": 66,
    "start_time": "2021-06-30T16:10:44.876Z"
   },
   {
    "duration": 22,
    "start_time": "2021-06-30T16:10:44.948Z"
   },
   {
    "duration": 566,
    "start_time": "2021-06-30T16:10:44.974Z"
   },
   {
    "duration": 18,
    "start_time": "2021-06-30T16:10:45.543Z"
   },
   {
    "duration": 6,
    "start_time": "2021-06-30T16:10:45.564Z"
   },
   {
    "duration": 59,
    "start_time": "2021-06-30T16:10:45.572Z"
   },
   {
    "duration": 25,
    "start_time": "2021-06-30T16:10:45.633Z"
   },
   {
    "duration": 7,
    "start_time": "2021-06-30T16:10:45.661Z"
   },
   {
    "duration": 7238,
    "start_time": "2021-06-30T16:10:45.671Z"
   },
   {
    "duration": 636,
    "start_time": "2021-06-30T16:10:52.911Z"
   },
   {
    "duration": -203,
    "start_time": "2021-06-30T16:10:53.753Z"
   },
   {
    "duration": -205,
    "start_time": "2021-06-30T16:10:53.757Z"
   },
   {
    "duration": 1784,
    "start_time": "2021-06-30T16:16:51.884Z"
   },
   {
    "duration": 379,
    "start_time": "2021-06-30T16:16:53.671Z"
   },
   {
    "duration": 149,
    "start_time": "2021-06-30T16:16:54.053Z"
   },
   {
    "duration": 506,
    "start_time": "2021-06-30T16:16:54.205Z"
   },
   {
    "duration": 13,
    "start_time": "2021-06-30T16:16:54.713Z"
   },
   {
    "duration": 30,
    "start_time": "2021-06-30T16:16:54.729Z"
   },
   {
    "duration": 35,
    "start_time": "2021-06-30T16:16:54.762Z"
   },
   {
    "duration": 38,
    "start_time": "2021-06-30T16:16:54.799Z"
   },
   {
    "duration": 344,
    "start_time": "2021-06-30T16:16:54.841Z"
   },
   {
    "duration": 21,
    "start_time": "2021-06-30T16:16:55.188Z"
   },
   {
    "duration": 13,
    "start_time": "2021-06-30T16:16:55.212Z"
   },
   {
    "duration": 32,
    "start_time": "2021-06-30T16:16:55.227Z"
   },
   {
    "duration": 28,
    "start_time": "2021-06-30T16:16:55.261Z"
   },
   {
    "duration": 7,
    "start_time": "2021-06-30T16:16:55.291Z"
   },
   {
    "duration": 923,
    "start_time": "2021-06-30T16:16:55.301Z"
   },
   {
    "duration": -110,
    "start_time": "2021-06-30T16:16:56.337Z"
   },
   {
    "duration": -109,
    "start_time": "2021-06-30T16:16:56.338Z"
   },
   {
    "duration": -120,
    "start_time": "2021-06-30T16:16:56.351Z"
   },
   {
    "duration": 943,
    "start_time": "2021-06-30T16:18:54.187Z"
   },
   {
    "duration": 7211,
    "start_time": "2021-06-30T16:20:07.443Z"
   },
   {
    "duration": 7418,
    "start_time": "2021-06-30T16:21:25.786Z"
   },
   {
    "duration": 11420,
    "start_time": "2021-06-30T16:21:40.606Z"
   },
   {
    "duration": 397,
    "start_time": "2021-06-30T16:23:23.122Z"
   },
   {
    "duration": 577,
    "start_time": "2021-06-30T16:23:29.649Z"
   },
   {
    "duration": 291,
    "start_time": "2021-06-30T16:23:40.043Z"
   },
   {
    "duration": 525,
    "start_time": "2021-06-30T16:24:13.204Z"
   },
   {
    "duration": 7438,
    "start_time": "2021-06-30T16:25:33.778Z"
   },
   {
    "duration": 7441,
    "start_time": "2021-06-30T16:25:47.650Z"
   },
   {
    "duration": 1622,
    "start_time": "2021-06-30T16:27:10.869Z"
   },
   {
    "duration": 371,
    "start_time": "2021-06-30T16:27:12.494Z"
   },
   {
    "duration": 155,
    "start_time": "2021-06-30T16:27:12.869Z"
   },
   {
    "duration": 516,
    "start_time": "2021-06-30T16:27:13.028Z"
   },
   {
    "duration": 10,
    "start_time": "2021-06-30T16:27:13.547Z"
   },
   {
    "duration": 33,
    "start_time": "2021-06-30T16:27:13.560Z"
   },
   {
    "duration": 48,
    "start_time": "2021-06-30T16:27:13.596Z"
   },
   {
    "duration": 20,
    "start_time": "2021-06-30T16:27:13.648Z"
   },
   {
    "duration": 352,
    "start_time": "2021-06-30T16:27:13.672Z"
   },
   {
    "duration": 13,
    "start_time": "2021-06-30T16:27:14.026Z"
   },
   {
    "duration": 18,
    "start_time": "2021-06-30T16:27:14.041Z"
   },
   {
    "duration": 35,
    "start_time": "2021-06-30T16:27:14.061Z"
   },
   {
    "duration": 41,
    "start_time": "2021-06-30T16:27:14.098Z"
   },
   {
    "duration": 8,
    "start_time": "2021-06-30T16:27:14.141Z"
   },
   {
    "duration": 7508,
    "start_time": "2021-06-30T16:27:14.152Z"
   },
   {
    "duration": 1739,
    "start_time": "2021-06-30T16:33:11.550Z"
   },
   {
    "duration": 475,
    "start_time": "2021-06-30T16:33:13.292Z"
   },
   {
    "duration": 150,
    "start_time": "2021-06-30T16:33:13.770Z"
   },
   {
    "duration": 496,
    "start_time": "2021-06-30T16:33:13.923Z"
   },
   {
    "duration": 9,
    "start_time": "2021-06-30T16:33:14.424Z"
   },
   {
    "duration": 32,
    "start_time": "2021-06-30T16:33:14.435Z"
   },
   {
    "duration": 27,
    "start_time": "2021-06-30T16:33:14.470Z"
   },
   {
    "duration": 38,
    "start_time": "2021-06-30T16:33:14.499Z"
   },
   {
    "duration": 331,
    "start_time": "2021-06-30T16:33:14.541Z"
   },
   {
    "duration": 12,
    "start_time": "2021-06-30T16:33:14.875Z"
   },
   {
    "duration": 23,
    "start_time": "2021-06-30T16:33:14.889Z"
   },
   {
    "duration": 40,
    "start_time": "2021-06-30T16:33:14.914Z"
   },
   {
    "duration": 28,
    "start_time": "2021-06-30T16:33:14.957Z"
   },
   {
    "duration": 13,
    "start_time": "2021-06-30T16:33:14.988Z"
   },
   {
    "duration": 11740,
    "start_time": "2021-06-30T16:33:15.004Z"
   },
   {
    "duration": 1580,
    "start_time": "2021-06-30T16:34:21.702Z"
   },
   {
    "duration": 567,
    "start_time": "2021-06-30T16:34:23.285Z"
   },
   {
    "duration": 146,
    "start_time": "2021-06-30T16:34:23.855Z"
   },
   {
    "duration": 497,
    "start_time": "2021-06-30T16:34:24.004Z"
   },
   {
    "duration": 21,
    "start_time": "2021-06-30T16:34:24.503Z"
   },
   {
    "duration": 15,
    "start_time": "2021-06-30T16:34:24.526Z"
   },
   {
    "duration": 27,
    "start_time": "2021-06-30T16:34:24.544Z"
   },
   {
    "duration": 60,
    "start_time": "2021-06-30T16:34:24.574Z"
   },
   {
    "duration": 341,
    "start_time": "2021-06-30T16:34:24.637Z"
   },
   {
    "duration": 13,
    "start_time": "2021-06-30T16:34:24.981Z"
   },
   {
    "duration": 5,
    "start_time": "2021-06-30T16:34:24.997Z"
   },
   {
    "duration": 39,
    "start_time": "2021-06-30T16:34:25.004Z"
   },
   {
    "duration": 31,
    "start_time": "2021-06-30T16:34:25.047Z"
   },
   {
    "duration": 7,
    "start_time": "2021-06-30T16:34:25.080Z"
   },
   {
    "duration": 7317,
    "start_time": "2021-06-30T16:34:25.125Z"
   },
   {
    "duration": 393494,
    "start_time": "2021-06-30T16:34:32.445Z"
   },
   {
    "duration": -204,
    "start_time": "2021-06-30T16:41:06.146Z"
   },
   {
    "duration": -205,
    "start_time": "2021-06-30T16:41:06.148Z"
   },
   {
    "duration": 332,
    "start_time": "2021-06-30T16:41:12.499Z"
   },
   {
    "duration": 200,
    "start_time": "2021-06-30T16:41:14.852Z"
   },
   {
    "duration": 435,
    "start_time": "2021-06-30T20:01:09.844Z"
   },
   {
    "duration": 1695,
    "start_time": "2021-06-30T20:01:26.224Z"
   },
   {
    "duration": 375,
    "start_time": "2021-06-30T20:01:27.922Z"
   },
   {
    "duration": 148,
    "start_time": "2021-06-30T20:01:28.300Z"
   },
   {
    "duration": 518,
    "start_time": "2021-06-30T20:01:28.451Z"
   },
   {
    "duration": 8,
    "start_time": "2021-06-30T20:01:28.972Z"
   },
   {
    "duration": 39,
    "start_time": "2021-06-30T20:01:28.982Z"
   },
   {
    "duration": 28,
    "start_time": "2021-06-30T20:01:29.024Z"
   },
   {
    "duration": 17,
    "start_time": "2021-06-30T20:01:29.054Z"
   },
   {
    "duration": 375,
    "start_time": "2021-06-30T20:01:29.075Z"
   },
   {
    "duration": 15,
    "start_time": "2021-06-30T20:01:29.453Z"
   },
   {
    "duration": 4,
    "start_time": "2021-06-30T20:01:29.471Z"
   },
   {
    "duration": 49,
    "start_time": "2021-06-30T20:01:29.477Z"
   },
   {
    "duration": 27,
    "start_time": "2021-06-30T20:01:29.528Z"
   },
   {
    "duration": 7,
    "start_time": "2021-06-30T20:01:29.557Z"
   },
   {
    "duration": 7488,
    "start_time": "2021-06-30T20:01:29.567Z"
   },
   {
    "duration": 1572,
    "start_time": "2021-06-30T20:06:07.509Z"
   },
   {
    "duration": 377,
    "start_time": "2021-06-30T20:06:09.084Z"
   },
   {
    "duration": 142,
    "start_time": "2021-06-30T20:06:09.464Z"
   },
   {
    "duration": 509,
    "start_time": "2021-06-30T20:06:09.609Z"
   },
   {
    "duration": 8,
    "start_time": "2021-06-30T20:06:10.120Z"
   },
   {
    "duration": 20,
    "start_time": "2021-06-30T20:06:10.130Z"
   },
   {
    "duration": 58,
    "start_time": "2021-06-30T20:06:10.153Z"
   },
   {
    "duration": 16,
    "start_time": "2021-06-30T20:06:10.213Z"
   },
   {
    "duration": 346,
    "start_time": "2021-06-30T20:06:10.233Z"
   },
   {
    "duration": 27,
    "start_time": "2021-06-30T20:06:10.582Z"
   },
   {
    "duration": 4,
    "start_time": "2021-06-30T20:06:10.611Z"
   },
   {
    "duration": 25,
    "start_time": "2021-06-30T20:06:10.618Z"
   },
   {
    "duration": 27,
    "start_time": "2021-06-30T20:06:10.645Z"
   },
   {
    "duration": 36,
    "start_time": "2021-06-30T20:06:10.674Z"
   },
   {
    "duration": 15197,
    "start_time": "2021-06-30T20:06:10.712Z"
   },
   {
    "duration": 44672,
    "start_time": "2021-06-30T20:06:25.911Z"
   },
   {
    "duration": -160,
    "start_time": "2021-06-30T20:07:10.745Z"
   },
   {
    "duration": -160,
    "start_time": "2021-06-30T20:07:10.747Z"
   },
   {
    "duration": -160,
    "start_time": "2021-06-30T20:07:10.749Z"
   },
   {
    "duration": 15054,
    "start_time": "2021-06-30T20:07:17.514Z"
   },
   {
    "duration": 36359,
    "start_time": "2021-06-30T20:07:39.976Z"
   },
   {
    "duration": 102323,
    "start_time": "2021-06-30T20:08:21.601Z"
   },
   {
    "duration": 272983,
    "start_time": "2021-06-30T20:10:06.602Z"
   },
   {
    "duration": 176,
    "start_time": "2021-06-30T20:15:44.634Z"
   },
   {
    "duration": 289,
    "start_time": "2021-06-30T20:15:47.120Z"
   },
   {
    "duration": 1267,
    "start_time": "2021-06-30T20:21:47.814Z"
   },
   {
    "duration": 1469,
    "start_time": "2021-06-30T20:22:09.087Z"
   },
   {
    "duration": 2651,
    "start_time": "2021-06-30T20:22:38.812Z"
   },
   {
    "duration": 2654,
    "start_time": "2021-06-30T20:23:22.459Z"
   },
   {
    "duration": 2947,
    "start_time": "2021-06-30T20:25:01.561Z"
   },
   {
    "duration": 2802,
    "start_time": "2021-06-30T20:25:19.295Z"
   },
   {
    "duration": 250,
    "start_time": "2021-06-30T20:27:10.733Z"
   },
   {
    "duration": 1574,
    "start_time": "2021-06-30T20:28:41.448Z"
   },
   {
    "duration": 1672,
    "start_time": "2021-06-30T20:29:28.910Z"
   },
   {
    "duration": 474,
    "start_time": "2021-06-30T20:29:30.585Z"
   },
   {
    "duration": 147,
    "start_time": "2021-06-30T20:29:31.062Z"
   },
   {
    "duration": 611,
    "start_time": "2021-06-30T20:29:31.212Z"
   },
   {
    "duration": 8,
    "start_time": "2021-06-30T20:29:31.826Z"
   },
   {
    "duration": 29,
    "start_time": "2021-06-30T20:29:31.836Z"
   },
   {
    "duration": 52,
    "start_time": "2021-06-30T20:29:31.867Z"
   },
   {
    "duration": 19,
    "start_time": "2021-06-30T20:29:31.925Z"
   },
   {
    "duration": 363,
    "start_time": "2021-06-30T20:29:31.948Z"
   },
   {
    "duration": 13,
    "start_time": "2021-06-30T20:29:32.313Z"
   },
   {
    "duration": 8,
    "start_time": "2021-06-30T20:29:32.329Z"
   },
   {
    "duration": 25,
    "start_time": "2021-06-30T20:29:32.339Z"
   },
   {
    "duration": 54,
    "start_time": "2021-06-30T20:29:32.366Z"
   },
   {
    "duration": 7,
    "start_time": "2021-06-30T20:29:32.423Z"
   },
   {
    "duration": 15107,
    "start_time": "2021-06-30T20:29:32.433Z"
   },
   {
    "duration": 269,
    "start_time": "2021-06-30T20:29:47.542Z"
   },
   {
    "duration": 296,
    "start_time": "2021-06-30T20:29:47.814Z"
   },
   {
    "duration": 2705,
    "start_time": "2021-06-30T20:29:48.113Z"
   },
   {
    "duration": 2853,
    "start_time": "2021-06-30T20:29:50.821Z"
   },
   {
    "duration": 259,
    "start_time": "2021-06-30T20:29:53.676Z"
   },
   {
    "duration": 1573,
    "start_time": "2021-06-30T20:29:53.937Z"
   },
   {
    "duration": 2936,
    "start_time": "2021-06-30T20:30:28.397Z"
   },
   {
    "duration": 3342,
    "start_time": "2021-06-30T20:30:39.709Z"
   },
   {
    "duration": 249,
    "start_time": "2021-06-30T20:31:00.082Z"
   },
   {
    "duration": 259,
    "start_time": "2021-06-30T20:31:09.513Z"
   },
   {
    "duration": 2158,
    "start_time": "2021-06-30T20:31:22.553Z"
   },
   {
    "duration": 3,
    "start_time": "2021-06-30T20:33:29.662Z"
   },
   {
    "duration": 5,
    "start_time": "2021-06-30T20:34:22.967Z"
   },
   {
    "duration": 1340,
    "start_time": "2021-06-30T20:46:13.170Z"
   },
   {
    "duration": 1321,
    "start_time": "2021-06-30T20:46:27.494Z"
   },
   {
    "duration": 1608,
    "start_time": "2021-06-30T20:46:37.105Z"
   },
   {
    "duration": 2703,
    "start_time": "2021-06-30T20:47:02.541Z"
   },
   {
    "duration": 1618,
    "start_time": "2021-06-30T20:51:01.579Z"
   },
   {
    "duration": 368,
    "start_time": "2021-06-30T20:51:03.200Z"
   },
   {
    "duration": 148,
    "start_time": "2021-06-30T20:51:03.572Z"
   },
   {
    "duration": 507,
    "start_time": "2021-06-30T20:51:03.723Z"
   },
   {
    "duration": 9,
    "start_time": "2021-06-30T20:51:04.233Z"
   },
   {
    "duration": 19,
    "start_time": "2021-06-30T20:51:04.245Z"
   },
   {
    "duration": 59,
    "start_time": "2021-06-30T20:51:04.266Z"
   },
   {
    "duration": 15,
    "start_time": "2021-06-30T20:51:04.327Z"
   },
   {
    "duration": 357,
    "start_time": "2021-06-30T20:51:04.346Z"
   },
   {
    "duration": 13,
    "start_time": "2021-06-30T20:51:04.706Z"
   },
   {
    "duration": 8,
    "start_time": "2021-06-30T20:51:04.721Z"
   },
   {
    "duration": 25,
    "start_time": "2021-06-30T20:51:04.731Z"
   },
   {
    "duration": 59,
    "start_time": "2021-06-30T20:51:04.759Z"
   },
   {
    "duration": 7,
    "start_time": "2021-06-30T20:51:04.821Z"
   },
   {
    "duration": 15324,
    "start_time": "2021-06-30T20:51:04.831Z"
   },
   {
    "duration": 280071,
    "start_time": "2021-06-30T20:51:20.158Z"
   },
   {
    "duration": 278,
    "start_time": "2021-06-30T20:56:00.232Z"
   },
   {
    "duration": 396,
    "start_time": "2021-06-30T20:56:00.513Z"
   },
   {
    "duration": 2890,
    "start_time": "2021-06-30T20:56:00.911Z"
   },
   {
    "duration": 1508,
    "start_time": "2021-06-30T20:56:03.804Z"
   },
   {
    "duration": 95,
    "start_time": "2021-06-30T20:56:05.315Z"
   },
   {
    "duration": 1440,
    "start_time": "2021-06-30T20:56:41.271Z"
   },
   {
    "duration": 1310,
    "start_time": "2021-06-30T20:57:10.003Z"
   },
   {
    "duration": 1532,
    "start_time": "2021-06-30T20:57:29.986Z"
   },
   {
    "duration": 1474,
    "start_time": "2021-06-30T20:57:48.939Z"
   },
   {
    "duration": 1376,
    "start_time": "2021-06-30T20:58:10.435Z"
   },
   {
    "duration": 2860,
    "start_time": "2021-06-30T21:00:12.700Z"
   },
   {
    "duration": 1721,
    "start_time": "2021-06-30T21:01:18.613Z"
   },
   {
    "duration": 397,
    "start_time": "2021-06-30T21:01:20.337Z"
   },
   {
    "duration": 150,
    "start_time": "2021-06-30T21:01:20.739Z"
   },
   {
    "duration": 618,
    "start_time": "2021-06-30T21:01:20.892Z"
   },
   {
    "duration": 9,
    "start_time": "2021-06-30T21:01:21.513Z"
   },
   {
    "duration": 35,
    "start_time": "2021-06-30T21:01:21.526Z"
   },
   {
    "duration": 48,
    "start_time": "2021-06-30T21:01:21.567Z"
   },
   {
    "duration": 19,
    "start_time": "2021-06-30T21:01:21.619Z"
   },
   {
    "duration": 359,
    "start_time": "2021-06-30T21:01:21.641Z"
   },
   {
    "duration": 14,
    "start_time": "2021-06-30T21:01:22.003Z"
   },
   {
    "duration": 4,
    "start_time": "2021-06-30T21:01:22.020Z"
   },
   {
    "duration": 24,
    "start_time": "2021-06-30T21:01:22.026Z"
   },
   {
    "duration": 63,
    "start_time": "2021-06-30T21:01:22.052Z"
   },
   {
    "duration": 6,
    "start_time": "2021-06-30T21:01:22.118Z"
   },
   {
    "duration": 15160,
    "start_time": "2021-06-30T21:01:22.127Z"
   },
   {
    "duration": 275952,
    "start_time": "2021-06-30T21:01:37.289Z"
   },
   {
    "duration": 272,
    "start_time": "2021-06-30T21:06:13.243Z"
   },
   {
    "duration": 291,
    "start_time": "2021-06-30T21:06:13.519Z"
   },
   {
    "duration": 3021,
    "start_time": "2021-06-30T21:06:13.817Z"
   },
   {
    "duration": 1373,
    "start_time": "2021-06-30T21:06:16.840Z"
   },
   {
    "duration": 2968,
    "start_time": "2021-06-30T21:06:18.217Z"
   },
   {
    "duration": 4,
    "start_time": "2021-06-30T21:06:21.189Z"
   },
   {
    "duration": 1111,
    "start_time": "2021-06-30T23:29:24.254Z"
   },
   {
    "duration": 384,
    "start_time": "2021-06-30T23:29:26.428Z"
   },
   {
    "duration": 111,
    "start_time": "2021-06-30T23:29:27.506Z"
   },
   {
    "duration": 408,
    "start_time": "2021-06-30T23:29:28.929Z"
   },
   {
    "duration": 6,
    "start_time": "2021-06-30T23:31:47.048Z"
   },
   {
    "duration": 13,
    "start_time": "2021-06-30T23:32:16.177Z"
   },
   {
    "duration": 17,
    "start_time": "2021-06-30T23:32:18.716Z"
   },
   {
    "duration": 11,
    "start_time": "2021-06-30T23:34:37.321Z"
   },
   {
    "duration": 205,
    "start_time": "2021-06-30T23:34:41.608Z"
   },
   {
    "duration": 8,
    "start_time": "2021-06-30T23:34:42.639Z"
   },
   {
    "duration": 3,
    "start_time": "2021-07-01T00:18:04.567Z"
   },
   {
    "duration": 18,
    "start_time": "2021-07-01T00:18:07.017Z"
   },
   {
    "duration": 19,
    "start_time": "2021-07-01T00:18:08.800Z"
   },
   {
    "duration": 5,
    "start_time": "2021-07-01T00:18:09.136Z"
   },
   {
    "duration": 212,
    "start_time": "2021-07-01T16:52:47.811Z"
   },
   {
    "duration": 725,
    "start_time": "2021-07-01T16:53:15.385Z"
   },
   {
    "duration": 173,
    "start_time": "2021-07-01T16:53:40.045Z"
   },
   {
    "duration": 1132,
    "start_time": "2021-07-01T16:54:42.210Z"
   },
   {
    "duration": 285,
    "start_time": "2021-07-01T16:54:43.344Z"
   },
   {
    "duration": 107,
    "start_time": "2021-07-01T16:54:43.631Z"
   },
   {
    "duration": 390,
    "start_time": "2021-07-01T16:54:43.740Z"
   },
   {
    "duration": 5,
    "start_time": "2021-07-01T16:54:44.131Z"
   },
   {
    "duration": 18,
    "start_time": "2021-07-01T16:54:44.138Z"
   },
   {
    "duration": 17,
    "start_time": "2021-07-01T16:54:44.157Z"
   },
   {
    "duration": 11,
    "start_time": "2021-07-01T16:54:44.175Z"
   },
   {
    "duration": 203,
    "start_time": "2021-07-01T16:54:44.188Z"
   },
   {
    "duration": 9,
    "start_time": "2021-07-01T16:54:44.392Z"
   },
   {
    "duration": 4,
    "start_time": "2021-07-01T16:54:44.402Z"
   },
   {
    "duration": 21,
    "start_time": "2021-07-01T16:54:44.407Z"
   },
   {
    "duration": 18,
    "start_time": "2021-07-01T16:54:44.430Z"
   },
   {
    "duration": 4,
    "start_time": "2021-07-01T16:54:44.450Z"
   },
   {
    "duration": 134,
    "start_time": "2021-07-01T16:54:44.455Z"
   },
   {
    "duration": 394,
    "start_time": "2021-07-01T16:54:44.591Z"
   },
   {
    "duration": 2163,
    "start_time": "2021-07-01T16:54:44.987Z"
   },
   {
    "duration": 1141,
    "start_time": "2021-07-01T16:54:47.152Z"
   },
   {
    "duration": 2244,
    "start_time": "2021-07-01T16:54:48.295Z"
   },
   {
    "duration": 3,
    "start_time": "2021-07-01T16:54:50.541Z"
   },
   {
    "duration": 8,
    "start_time": "2021-07-01T16:54:50.545Z"
   },
   {
    "duration": 9,
    "start_time": "2021-07-01T16:56:31.288Z"
   },
   {
    "duration": 10,
    "start_time": "2021-07-01T16:56:41.438Z"
   },
   {
    "duration": 11,
    "start_time": "2021-07-01T16:57:23.266Z"
   },
   {
    "duration": 15,
    "start_time": "2021-07-01T16:57:34.427Z"
   },
   {
    "duration": 275,
    "start_time": "2021-07-01T17:04:13.360Z"
   },
   {
    "duration": 271,
    "start_time": "2021-07-01T17:04:29.164Z"
   },
   {
    "duration": 5135,
    "start_time": "2021-07-01T17:04:31.659Z"
   },
   {
    "duration": 352,
    "start_time": "2021-07-01T17:05:08.556Z"
   },
   {
    "duration": 5029,
    "start_time": "2021-07-01T17:05:17.241Z"
   },
   {
    "duration": 5339,
    "start_time": "2021-07-01T17:05:36.479Z"
   },
   {
    "duration": 4543,
    "start_time": "2021-07-01T17:06:22.546Z"
   },
   {
    "duration": 4511,
    "start_time": "2021-07-01T17:07:32.866Z"
   },
   {
    "duration": 317,
    "start_time": "2021-07-01T17:07:57.206Z"
   },
   {
    "duration": 585,
    "start_time": "2021-07-01T17:08:58.268Z"
   },
   {
    "duration": 884,
    "start_time": "2021-07-01T17:09:48.346Z"
   },
   {
    "duration": 395,
    "start_time": "2021-07-01T17:16:18.428Z"
   },
   {
    "duration": 357,
    "start_time": "2021-07-01T17:16:29.552Z"
   },
   {
    "duration": 435,
    "start_time": "2021-07-01T17:16:43.693Z"
   },
   {
    "duration": 363,
    "start_time": "2021-07-01T17:16:50.625Z"
   },
   {
    "duration": 347,
    "start_time": "2021-07-01T17:18:25.711Z"
   },
   {
    "duration": 455,
    "start_time": "2021-07-01T17:19:16.673Z"
   },
   {
    "duration": 565,
    "start_time": "2021-07-01T17:19:45.477Z"
   },
   {
    "duration": 523,
    "start_time": "2021-07-01T17:19:49.167Z"
   },
   {
    "duration": 564,
    "start_time": "2021-07-01T17:20:21.012Z"
   },
   {
    "duration": 4500,
    "start_time": "2021-07-01T17:22:57.902Z"
   },
   {
    "duration": 5,
    "start_time": "2021-07-01T17:23:35.966Z"
   },
   {
    "duration": 9,
    "start_time": "2021-07-01T17:24:29.590Z"
   },
   {
    "duration": 663,
    "start_time": "2021-07-01T17:25:01.110Z"
   },
   {
    "duration": 453,
    "start_time": "2021-07-01T17:25:31.807Z"
   },
   {
    "duration": 1615,
    "start_time": "2021-07-01T17:25:51.805Z"
   },
   {
    "duration": 1437,
    "start_time": "2021-07-01T17:25:59.330Z"
   },
   {
    "duration": 1515,
    "start_time": "2021-07-01T17:26:05.568Z"
   },
   {
    "duration": 1167,
    "start_time": "2021-07-01T17:26:28.610Z"
   },
   {
    "duration": 1200,
    "start_time": "2021-07-01T17:26:39.037Z"
   },
   {
    "duration": 1335,
    "start_time": "2021-07-01T17:27:11.101Z"
   },
   {
    "duration": 1550,
    "start_time": "2021-07-01T17:27:33.442Z"
   },
   {
    "duration": 1474,
    "start_time": "2021-07-01T17:28:09.024Z"
   },
   {
    "duration": 430,
    "start_time": "2021-07-01T17:28:40.429Z"
   },
   {
    "duration": 730,
    "start_time": "2021-07-01T17:29:00.616Z"
   },
   {
    "duration": 182,
    "start_time": "2021-07-01T17:30:51.589Z"
   },
   {
    "duration": 177,
    "start_time": "2021-07-01T17:30:58.309Z"
   },
   {
    "duration": 68985,
    "start_time": "2021-07-01T17:31:48.050Z"
   },
   {
    "duration": 334191,
    "start_time": "2021-07-01T17:33:00.123Z"
   },
   {
    "duration": 736,
    "start_time": "2021-07-01T17:41:32.845Z"
   },
   {
    "duration": 838,
    "start_time": "2021-07-01T17:41:43.164Z"
   },
   {
    "duration": 793,
    "start_time": "2021-07-01T17:41:51.644Z"
   },
   {
    "duration": 10,
    "start_time": "2021-07-01T17:43:30.816Z"
   },
   {
    "duration": 783,
    "start_time": "2021-07-01T17:43:38.674Z"
   },
   {
    "duration": 15,
    "start_time": "2021-07-01T17:44:38.444Z"
   },
   {
    "duration": 794,
    "start_time": "2021-07-01T17:45:13.037Z"
   },
   {
    "duration": 18,
    "start_time": "2021-07-01T17:46:03.779Z"
   },
   {
    "duration": 10,
    "start_time": "2021-07-01T17:46:27.194Z"
   },
   {
    "duration": 22,
    "start_time": "2021-07-01T17:47:14.309Z"
   },
   {
    "duration": 13,
    "start_time": "2021-07-01T17:47:34.974Z"
   },
   {
    "duration": 1198,
    "start_time": "2021-07-01T17:47:59.369Z"
   },
   {
    "duration": 311,
    "start_time": "2021-07-01T17:48:00.569Z"
   },
   {
    "duration": 113,
    "start_time": "2021-07-01T17:48:00.883Z"
   },
   {
    "duration": 413,
    "start_time": "2021-07-01T17:48:00.998Z"
   },
   {
    "duration": 6,
    "start_time": "2021-07-01T17:48:01.413Z"
   },
   {
    "duration": 21,
    "start_time": "2021-07-01T17:48:01.420Z"
   },
   {
    "duration": 18,
    "start_time": "2021-07-01T17:48:01.443Z"
   },
   {
    "duration": 30,
    "start_time": "2021-07-01T17:48:01.462Z"
   },
   {
    "duration": 844,
    "start_time": "2021-07-01T17:48:01.495Z"
   },
   {
    "duration": 292,
    "start_time": "2021-07-01T17:48:02.340Z"
   },
   {
    "duration": 4,
    "start_time": "2021-07-01T17:48:02.634Z"
   },
   {
    "duration": 279,
    "start_time": "2021-07-01T17:48:02.639Z"
   },
   {
    "duration": -54,
    "start_time": "2021-07-01T17:48:02.974Z"
   },
   {
    "duration": -55,
    "start_time": "2021-07-01T17:48:02.976Z"
   },
   {
    "duration": -59,
    "start_time": "2021-07-01T17:48:02.981Z"
   },
   {
    "duration": -60,
    "start_time": "2021-07-01T17:48:02.983Z"
   },
   {
    "duration": -61,
    "start_time": "2021-07-01T17:48:02.985Z"
   },
   {
    "duration": -62,
    "start_time": "2021-07-01T17:48:02.987Z"
   },
   {
    "duration": -63,
    "start_time": "2021-07-01T17:48:02.989Z"
   },
   {
    "duration": -63,
    "start_time": "2021-07-01T17:48:02.990Z"
   },
   {
    "duration": -64,
    "start_time": "2021-07-01T17:48:02.992Z"
   },
   {
    "duration": -65,
    "start_time": "2021-07-01T17:48:02.994Z"
   },
   {
    "duration": -66,
    "start_time": "2021-07-01T17:48:02.996Z"
   },
   {
    "duration": -67,
    "start_time": "2021-07-01T17:48:02.998Z"
   },
   {
    "duration": -68,
    "start_time": "2021-07-01T17:48:03.000Z"
   },
   {
    "duration": 11,
    "start_time": "2021-07-01T17:49:07.150Z"
   },
   {
    "duration": 838,
    "start_time": "2021-07-01T17:49:07.163Z"
   },
   {
    "duration": 22,
    "start_time": "2021-07-01T17:49:08.003Z"
   },
   {
    "duration": 3,
    "start_time": "2021-07-01T17:49:08.027Z"
   },
   {
    "duration": 11,
    "start_time": "2021-07-01T17:49:08.031Z"
   },
   {
    "duration": 43,
    "start_time": "2021-07-01T17:49:08.044Z"
   },
   {
    "duration": 4,
    "start_time": "2021-07-01T17:49:08.089Z"
   },
   {
    "duration": 97,
    "start_time": "2021-07-01T17:49:08.095Z"
   },
   {
    "duration": 494,
    "start_time": "2021-07-01T17:49:08.195Z"
   },
   {
    "duration": 2006,
    "start_time": "2021-07-01T17:49:08.691Z"
   },
   {
    "duration": 898,
    "start_time": "2021-07-01T17:49:10.699Z"
   },
   {
    "duration": 2151,
    "start_time": "2021-07-01T17:49:11.691Z"
   },
   {
    "duration": 3,
    "start_time": "2021-07-01T17:49:13.844Z"
   },
   {
    "duration": 9,
    "start_time": "2021-07-01T17:49:13.849Z"
   },
   {
    "duration": 1141,
    "start_time": "2021-07-01T17:49:47.401Z"
   },
   {
    "duration": 300,
    "start_time": "2021-07-01T17:49:48.545Z"
   },
   {
    "duration": 110,
    "start_time": "2021-07-01T17:49:48.847Z"
   },
   {
    "duration": 403,
    "start_time": "2021-07-01T17:49:48.960Z"
   },
   {
    "duration": 5,
    "start_time": "2021-07-01T17:49:49.365Z"
   },
   {
    "duration": 22,
    "start_time": "2021-07-01T17:49:49.371Z"
   },
   {
    "duration": 18,
    "start_time": "2021-07-01T17:49:49.394Z"
   },
   {
    "duration": 10,
    "start_time": "2021-07-01T17:49:49.414Z"
   },
   {
    "duration": 880,
    "start_time": "2021-07-01T17:49:49.426Z"
   },
   {
    "duration": 287,
    "start_time": "2021-07-01T17:49:50.308Z"
   },
   {
    "duration": 4,
    "start_time": "2021-07-01T17:49:50.597Z"
   },
   {
    "duration": 12,
    "start_time": "2021-07-01T17:49:50.603Z"
   },
   {
    "duration": 862,
    "start_time": "2021-07-01T17:49:50.616Z"
   },
   {
    "duration": 22,
    "start_time": "2021-07-01T17:49:51.484Z"
   },
   {
    "duration": 3,
    "start_time": "2021-07-01T17:49:51.508Z"
   },
   {
    "duration": 10,
    "start_time": "2021-07-01T17:49:51.513Z"
   },
   {
    "duration": 20,
    "start_time": "2021-07-01T17:49:51.525Z"
   },
   {
    "duration": 5,
    "start_time": "2021-07-01T17:49:51.547Z"
   },
   {
    "duration": 10484,
    "start_time": "2021-07-01T17:49:51.585Z"
   },
   {
    "duration": 142410,
    "start_time": "2021-07-01T17:50:02.070Z"
   },
   {
    "duration": -144,
    "start_time": "2021-07-01T17:52:24.627Z"
   },
   {
    "duration": -145,
    "start_time": "2021-07-01T17:52:24.630Z"
   },
   {
    "duration": -146,
    "start_time": "2021-07-01T17:52:24.632Z"
   },
   {
    "duration": -146,
    "start_time": "2021-07-01T17:52:24.634Z"
   },
   {
    "duration": -148,
    "start_time": "2021-07-01T17:52:24.636Z"
   },
   {
    "duration": -156,
    "start_time": "2021-07-01T17:52:24.645Z"
   },
   {
    "duration": -158,
    "start_time": "2021-07-01T17:52:24.648Z"
   },
   {
    "duration": 477067,
    "start_time": "2021-07-01T17:52:33.145Z"
   },
   {
    "duration": 176,
    "start_time": "2021-07-01T18:00:30.214Z"
   },
   {
    "duration": 303,
    "start_time": "2021-07-01T18:00:30.392Z"
   },
   {
    "duration": 2063,
    "start_time": "2021-07-01T18:00:30.787Z"
   },
   {
    "duration": 1434,
    "start_time": "2021-07-01T18:00:32.852Z"
   },
   {
    "duration": 2118,
    "start_time": "2021-07-01T18:00:34.288Z"
   },
   {
    "duration": 3,
    "start_time": "2021-07-01T18:00:36.407Z"
   },
   {
    "duration": 11,
    "start_time": "2021-07-01T18:00:36.412Z"
   },
   {
    "duration": 4056,
    "start_time": "2021-07-01T18:04:55.993Z"
   },
   {
    "duration": 12,
    "start_time": "2021-07-01T18:07:00.069Z"
   },
   {
    "duration": 3,
    "start_time": "2021-07-01T18:07:44.329Z"
   },
   {
    "duration": 17057,
    "start_time": "2021-07-01T18:08:20.973Z"
   },
   {
    "duration": 5063,
    "start_time": "2021-07-01T18:08:55.422Z"
   },
   {
    "duration": 10965,
    "start_time": "2021-07-01T18:09:07.805Z"
   },
   {
    "duration": 4059,
    "start_time": "2021-07-01T18:09:25.166Z"
   },
   {
    "duration": 18395,
    "start_time": "2021-07-01T18:10:32.447Z"
   },
   {
    "duration": 2268,
    "start_time": "2021-07-01T18:11:48.749Z"
   },
   {
    "duration": 1147,
    "start_time": "2021-07-01T18:11:56.971Z"
   },
   {
    "duration": 4,
    "start_time": "2021-07-01T18:12:10.935Z"
   },
   {
    "duration": 268465,
    "start_time": "2021-07-01T18:14:12.383Z"
   },
   {
    "duration": 195,
    "start_time": "2021-07-01T18:30:28.268Z"
   },
   {
    "duration": 143,
    "start_time": "2021-07-01T18:31:10.619Z"
   },
   {
    "duration": 161,
    "start_time": "2021-07-01T18:33:16.184Z"
   },
   {
    "duration": 171,
    "start_time": "2021-07-01T18:33:26.083Z"
   },
   {
    "duration": 107,
    "start_time": "2021-07-01T18:35:45.239Z"
   },
   {
    "duration": 227,
    "start_time": "2021-07-01T18:35:51.062Z"
   },
   {
    "duration": 764,
    "start_time": "2021-07-01T18:36:14.873Z"
   },
   {
    "duration": 31,
    "start_time": "2021-07-01T18:38:11.220Z"
   },
   {
    "duration": 20,
    "start_time": "2021-07-01T18:39:25.546Z"
   },
   {
    "duration": 23,
    "start_time": "2021-07-01T18:39:31.021Z"
   },
   {
    "duration": 9,
    "start_time": "2021-07-01T18:39:55.650Z"
   },
   {
    "duration": 24,
    "start_time": "2021-07-01T18:39:55.661Z"
   },
   {
    "duration": 11,
    "start_time": "2021-07-01T18:39:55.688Z"
   },
   {
    "duration": 17493,
    "start_time": "2021-07-01T18:39:55.702Z"
   },
   {
    "duration": 312,
    "start_time": "2021-07-01T18:40:13.197Z"
   },
   {
    "duration": 599,
    "start_time": "2021-07-01T18:40:13.603Z"
   },
   {
    "duration": 4465,
    "start_time": "2021-07-01T18:40:14.204Z"
   },
   {
    "duration": 1815,
    "start_time": "2021-07-01T18:40:18.672Z"
   },
   {
    "duration": 2272,
    "start_time": "2021-07-01T18:40:20.495Z"
   },
   {
    "duration": 1161,
    "start_time": "2021-07-01T18:40:22.769Z"
   },
   {
    "duration": 3,
    "start_time": "2021-07-01T18:40:23.932Z"
   },
   {
    "duration": 12,
    "start_time": "2021-07-01T18:40:23.937Z"
   },
   {
    "duration": 4,
    "start_time": "2021-07-01T18:42:26.628Z"
   },
   {
    "duration": 1140,
    "start_time": "2021-07-01T18:44:53.935Z"
   },
   {
    "duration": 488,
    "start_time": "2021-07-01T18:44:55.078Z"
   },
   {
    "duration": 132,
    "start_time": "2021-07-01T18:44:55.569Z"
   },
   {
    "duration": 448,
    "start_time": "2021-07-01T18:44:55.703Z"
   },
   {
    "duration": 5,
    "start_time": "2021-07-01T18:44:56.153Z"
   },
   {
    "duration": 28,
    "start_time": "2021-07-01T18:44:56.159Z"
   },
   {
    "duration": 22,
    "start_time": "2021-07-01T18:44:56.188Z"
   },
   {
    "duration": 11,
    "start_time": "2021-07-01T18:44:56.212Z"
   },
   {
    "duration": 929,
    "start_time": "2021-07-01T18:44:56.225Z"
   },
   {
    "duration": 315,
    "start_time": "2021-07-01T18:44:57.156Z"
   },
   {
    "duration": 22,
    "start_time": "2021-07-01T18:44:57.473Z"
   },
   {
    "duration": 904,
    "start_time": "2021-07-01T18:44:57.498Z"
   },
   {
    "duration": 40,
    "start_time": "2021-07-01T18:44:58.404Z"
   },
   {
    "duration": 171,
    "start_time": "2021-07-01T18:44:58.446Z"
   },
   {
    "duration": 3,
    "start_time": "2021-07-01T18:44:58.619Z"
   },
   {
    "duration": 13,
    "start_time": "2021-07-01T18:44:58.623Z"
   },
   {
    "duration": 22,
    "start_time": "2021-07-01T18:44:58.638Z"
   },
   {
    "duration": 5,
    "start_time": "2021-07-01T18:44:58.662Z"
   },
   {
    "duration": 17259,
    "start_time": "2021-07-01T18:44:58.668Z"
   },
   {
    "duration": 465150,
    "start_time": "2021-07-01T18:45:15.929Z"
   },
   {
    "duration": 204,
    "start_time": "2021-07-01T18:53:01.085Z"
   },
   {
    "duration": 396,
    "start_time": "2021-07-01T18:53:01.291Z"
   },
   {
    "duration": 4095,
    "start_time": "2021-07-01T18:53:01.692Z"
   },
   {
    "duration": 1199,
    "start_time": "2021-07-01T18:53:05.789Z"
   },
   {
    "duration": 2202,
    "start_time": "2021-07-01T18:53:06.991Z"
   },
   {
    "duration": 1060,
    "start_time": "2021-07-01T18:53:09.195Z"
   },
   {
    "duration": 4,
    "start_time": "2021-07-01T18:53:10.257Z"
   },
   {
    "duration": 24,
    "start_time": "2021-07-01T18:53:10.262Z"
   },
   {
    "duration": 22518,
    "start_time": "2021-07-01T19:05:16.020Z"
   },
   {
    "duration": 1075,
    "start_time": "2021-07-01T19:05:38.540Z"
   },
   {
    "duration": 3,
    "start_time": "2021-07-01T19:05:39.617Z"
   },
   {
    "duration": 12,
    "start_time": "2021-07-01T19:05:39.622Z"
   },
   {
    "duration": 3,
    "start_time": "2021-07-01T19:06:30.727Z"
   },
   {
    "duration": 407,
    "start_time": "2021-07-02T08:53:38.857Z"
   },
   {
    "duration": 5,
    "start_time": "2021-07-02T08:53:45.003Z"
   },
   {
    "duration": 368,
    "start_time": "2021-07-02T08:53:45.010Z"
   },
   {
    "duration": 4,
    "start_time": "2021-07-02T08:54:07.730Z"
   },
   {
    "duration": 424,
    "start_time": "2021-07-02T08:54:07.737Z"
   },
   {
    "duration": -67,
    "start_time": "2021-07-02T08:54:08.231Z"
   },
   {
    "duration": -69,
    "start_time": "2021-07-02T08:54:08.235Z"
   },
   {
    "duration": -75,
    "start_time": "2021-07-02T08:54:08.242Z"
   },
   {
    "duration": -76,
    "start_time": "2021-07-02T08:54:08.245Z"
   },
   {
    "duration": -77,
    "start_time": "2021-07-02T08:54:08.247Z"
   },
   {
    "duration": -77,
    "start_time": "2021-07-02T08:54:08.249Z"
   },
   {
    "duration": -79,
    "start_time": "2021-07-02T08:54:08.252Z"
   },
   {
    "duration": -79,
    "start_time": "2021-07-02T08:54:08.253Z"
   },
   {
    "duration": -80,
    "start_time": "2021-07-02T08:54:08.256Z"
   },
   {
    "duration": -81,
    "start_time": "2021-07-02T08:54:08.258Z"
   },
   {
    "duration": -82,
    "start_time": "2021-07-02T08:54:08.260Z"
   },
   {
    "duration": -82,
    "start_time": "2021-07-02T08:54:08.262Z"
   },
   {
    "duration": 1542,
    "start_time": "2021-07-02T08:54:19.450Z"
   },
   {
    "duration": 569,
    "start_time": "2021-07-02T08:54:20.995Z"
   },
   {
    "duration": 145,
    "start_time": "2021-07-02T08:54:21.566Z"
   },
   {
    "duration": 500,
    "start_time": "2021-07-02T08:54:21.713Z"
   },
   {
    "duration": 9,
    "start_time": "2021-07-02T08:54:22.215Z"
   },
   {
    "duration": 21,
    "start_time": "2021-07-02T08:54:22.227Z"
   },
   {
    "duration": 65,
    "start_time": "2021-07-02T08:54:22.251Z"
   },
   {
    "duration": 18,
    "start_time": "2021-07-02T08:54:22.322Z"
   },
   {
    "duration": 1405,
    "start_time": "2021-07-02T08:54:22.345Z"
   },
   {
    "duration": 472,
    "start_time": "2021-07-02T08:54:23.753Z"
   },
   {
    "duration": 15,
    "start_time": "2021-07-02T08:54:24.227Z"
   },
   {
    "duration": 1381,
    "start_time": "2021-07-02T08:54:24.245Z"
   },
   {
    "duration": 48,
    "start_time": "2021-07-02T08:54:25.629Z"
   },
   {
    "duration": 271,
    "start_time": "2021-07-02T08:54:25.679Z"
   },
   {
    "duration": 4,
    "start_time": "2021-07-02T08:54:25.952Z"
   },
   {
    "duration": 22,
    "start_time": "2021-07-02T08:54:25.959Z"
   },
   {
    "duration": 48,
    "start_time": "2021-07-02T08:54:25.983Z"
   },
   {
    "duration": 6,
    "start_time": "2021-07-02T08:54:26.033Z"
   },
   {
    "duration": 274,
    "start_time": "2021-07-02T08:54:26.041Z"
   },
   {
    "duration": 292,
    "start_time": "2021-07-02T08:54:26.318Z"
   },
   {
    "duration": 5497,
    "start_time": "2021-07-02T08:54:26.613Z"
   },
   {
    "duration": 1300,
    "start_time": "2021-07-02T08:54:32.113Z"
   },
   {
    "duration": 30777,
    "start_time": "2021-07-02T08:54:33.419Z"
   },
   {
    "duration": 1452,
    "start_time": "2021-07-02T08:55:04.198Z"
   },
   {
    "duration": 4,
    "start_time": "2021-07-02T08:55:05.652Z"
   },
   {
    "duration": 39,
    "start_time": "2021-07-02T08:55:05.658Z"
   },
   {
    "duration": 12,
    "start_time": "2021-07-02T08:55:05.700Z"
   },
   {
    "duration": 912,
    "start_time": "2021-07-02T08:55:05.714Z"
   },
   {
    "duration": 5,
    "start_time": "2021-07-02T08:55:29.367Z"
   },
   {
    "duration": 799,
    "start_time": "2021-07-02T08:55:32.565Z"
   },
   {
    "duration": 7,
    "start_time": "2021-07-02T08:56:08.903Z"
   },
   {
    "duration": 835,
    "start_time": "2021-07-02T08:56:11.281Z"
   },
   {
    "duration": 125,
    "start_time": "2021-07-02T09:05:27.793Z"
   },
   {
    "duration": 142,
    "start_time": "2021-07-02T09:05:44.661Z"
   },
   {
    "duration": 541,
    "start_time": "2021-07-02T09:05:52.684Z"
   },
   {
    "duration": 6,
    "start_time": "2021-07-02T09:06:29.174Z"
   },
   {
    "duration": 1430,
    "start_time": "2021-07-02T09:30:20.561Z"
   },
   {
    "duration": 371,
    "start_time": "2021-07-02T09:30:23.741Z"
   },
   {
    "duration": 144,
    "start_time": "2021-07-02T09:30:24.116Z"
   },
   {
    "duration": 504,
    "start_time": "2021-07-02T09:30:24.264Z"
   },
   {
    "duration": 8,
    "start_time": "2021-07-02T09:30:24.969Z"
   },
   {
    "duration": 17,
    "start_time": "2021-07-02T09:30:25.461Z"
   },
   {
    "duration": 34,
    "start_time": "2021-07-02T09:30:25.678Z"
   },
   {
    "duration": 16,
    "start_time": "2021-07-02T09:30:27.029Z"
   },
   {
    "duration": 1301,
    "start_time": "2021-07-02T09:30:27.695Z"
   },
   {
    "duration": 447,
    "start_time": "2021-07-02T09:30:28.999Z"
   },
   {
    "duration": 19,
    "start_time": "2021-07-02T09:30:29.449Z"
   },
   {
    "duration": 1406,
    "start_time": "2021-07-02T09:30:30.023Z"
   },
   {
    "duration": 54,
    "start_time": "2021-07-02T09:30:31.431Z"
   },
   {
    "duration": 214,
    "start_time": "2021-07-02T09:30:31.700Z"
   },
   {
    "duration": 5,
    "start_time": "2021-07-02T09:30:32.534Z"
   },
   {
    "duration": 13,
    "start_time": "2021-07-02T09:30:33.509Z"
   },
   {
    "duration": 26,
    "start_time": "2021-07-02T09:30:34.157Z"
   },
   {
    "duration": 8,
    "start_time": "2021-07-02T09:30:34.476Z"
   },
   {
    "duration": 251,
    "start_time": "2021-07-02T09:30:35.304Z"
   },
   {
    "duration": 298,
    "start_time": "2021-07-02T09:30:35.559Z"
   },
   {
    "duration": 5015,
    "start_time": "2021-07-02T09:30:42.141Z"
   },
   {
    "duration": 1606,
    "start_time": "2021-07-02T09:30:47.158Z"
   },
   {
    "duration": 386,
    "start_time": "2021-07-02T09:33:58.861Z"
   },
   {
    "duration": 4,
    "start_time": "2021-07-02T09:35:37.352Z"
   },
   {
    "duration": 315,
    "start_time": "2021-07-02T09:35:41.503Z"
   },
   {
    "duration": 12947,
    "start_time": "2021-07-02T09:36:25.016Z"
   },
   {
    "duration": 111,
    "start_time": "2021-07-02T10:03:48.572Z"
   },
   {
    "duration": 120,
    "start_time": "2021-07-02T10:04:30.571Z"
   },
   {
    "duration": 1426,
    "start_time": "2021-07-02T10:05:01.684Z"
   },
   {
    "duration": 904,
    "start_time": "2021-07-02T12:59:47.818Z"
   },
   {
    "duration": 191,
    "start_time": "2021-07-02T13:00:35.687Z"
   },
   {
    "duration": -31,
    "start_time": "2021-07-02T13:00:35.911Z"
   },
   {
    "duration": -32,
    "start_time": "2021-07-02T13:00:35.914Z"
   },
   {
    "duration": -34,
    "start_time": "2021-07-02T13:00:35.917Z"
   },
   {
    "duration": -36,
    "start_time": "2021-07-02T13:00:35.920Z"
   },
   {
    "duration": -38,
    "start_time": "2021-07-02T13:00:35.922Z"
   },
   {
    "duration": -40,
    "start_time": "2021-07-02T13:00:35.925Z"
   },
   {
    "duration": -42,
    "start_time": "2021-07-02T13:00:35.928Z"
   },
   {
    "duration": -47,
    "start_time": "2021-07-02T13:00:35.934Z"
   },
   {
    "duration": -48,
    "start_time": "2021-07-02T13:00:35.936Z"
   },
   {
    "duration": -50,
    "start_time": "2021-07-02T13:00:35.939Z"
   },
   {
    "duration": -51,
    "start_time": "2021-07-02T13:00:35.941Z"
   },
   {
    "duration": -52,
    "start_time": "2021-07-02T13:00:35.943Z"
   },
   {
    "duration": 1138,
    "start_time": "2021-07-02T13:00:48.833Z"
   },
   {
    "duration": 301,
    "start_time": "2021-07-02T13:00:49.973Z"
   },
   {
    "duration": 119,
    "start_time": "2021-07-02T13:00:50.276Z"
   },
   {
    "duration": 414,
    "start_time": "2021-07-02T13:00:50.397Z"
   },
   {
    "duration": 5,
    "start_time": "2021-07-02T13:00:50.813Z"
   },
   {
    "duration": 15,
    "start_time": "2021-07-02T13:00:50.820Z"
   },
   {
    "duration": 19,
    "start_time": "2021-07-02T13:00:50.837Z"
   },
   {
    "duration": 39,
    "start_time": "2021-07-02T13:00:50.858Z"
   },
   {
    "duration": 933,
    "start_time": "2021-07-02T13:00:50.899Z"
   },
   {
    "duration": 307,
    "start_time": "2021-07-02T13:00:51.834Z"
   },
   {
    "duration": 11,
    "start_time": "2021-07-02T13:00:52.143Z"
   },
   {
    "duration": 888,
    "start_time": "2021-07-02T13:00:52.156Z"
   },
   {
    "duration": 48,
    "start_time": "2021-07-02T13:00:53.046Z"
   },
   {
    "duration": 188,
    "start_time": "2021-07-02T13:00:53.096Z"
   },
   {
    "duration": 4,
    "start_time": "2021-07-02T13:00:53.286Z"
   },
   {
    "duration": 18,
    "start_time": "2021-07-02T13:00:53.292Z"
   },
   {
    "duration": 25,
    "start_time": "2021-07-02T13:00:53.313Z"
   },
   {
    "duration": 6,
    "start_time": "2021-07-02T13:00:53.340Z"
   },
   {
    "duration": 241,
    "start_time": "2021-07-02T13:00:53.348Z"
   },
   {
    "duration": 294,
    "start_time": "2021-07-02T13:00:53.591Z"
   },
   {
    "duration": 4311,
    "start_time": "2021-07-02T13:00:53.887Z"
   },
   {
    "duration": 1697,
    "start_time": "2021-07-02T13:00:58.200Z"
   },
   {
    "duration": 23708,
    "start_time": "2021-07-02T13:00:59.993Z"
   },
   {
    "duration": 1150,
    "start_time": "2021-07-02T13:01:23.703Z"
   },
   {
    "duration": 3,
    "start_time": "2021-07-02T13:01:24.855Z"
   },
   {
    "duration": 26,
    "start_time": "2021-07-02T13:01:24.860Z"
   },
   {
    "duration": 3,
    "start_time": "2021-07-02T13:01:24.887Z"
   },
   {
    "duration": 734,
    "start_time": "2021-07-02T13:01:24.892Z"
   },
   {
    "duration": 540,
    "start_time": "2021-07-02T13:02:15.240Z"
   },
   {
    "duration": 5,
    "start_time": "2021-07-02T13:03:31.327Z"
   },
   {
    "duration": 452,
    "start_time": "2021-07-02T13:03:35.622Z"
   },
   {
    "duration": 10140,
    "start_time": "2021-07-02T13:03:40.149Z"
   },
   {
    "duration": 9387,
    "start_time": "2021-07-02T13:04:49.517Z"
   },
   {
    "duration": 10860,
    "start_time": "2021-07-02T13:05:03.727Z"
   },
   {
    "duration": 8884,
    "start_time": "2021-07-02T13:05:28.802Z"
   },
   {
    "duration": 18745,
    "start_time": "2021-07-02T13:05:49.657Z"
   },
   {
    "duration": 21188,
    "start_time": "2021-07-02T13:06:50.900Z"
   },
   {
    "duration": 1442,
    "start_time": "2021-07-02T13:07:29.351Z"
   },
   {
    "duration": 1329,
    "start_time": "2021-07-02T13:07:34.864Z"
   },
   {
    "duration": 1230,
    "start_time": "2021-07-02T13:08:03.462Z"
   },
   {
    "duration": 362,
    "start_time": "2021-07-03T07:57:27.948Z"
   },
   {
    "duration": 1123,
    "start_time": "2021-07-04T20:33:56.946Z"
   },
   {
    "duration": 1176,
    "start_time": "2021-09-16T17:49:55.627Z"
   },
   {
    "duration": 304,
    "start_time": "2021-09-16T17:49:56.805Z"
   },
   {
    "duration": 106,
    "start_time": "2021-09-16T17:49:57.111Z"
   },
   {
    "duration": 400,
    "start_time": "2021-09-16T17:49:57.219Z"
   },
   {
    "duration": 5,
    "start_time": "2021-09-16T17:49:57.620Z"
   },
   {
    "duration": 13,
    "start_time": "2021-09-16T17:49:57.626Z"
   },
   {
    "duration": 21,
    "start_time": "2021-09-16T17:49:57.641Z"
   },
   {
    "duration": 11,
    "start_time": "2021-09-16T17:49:57.665Z"
   },
   {
    "duration": 769,
    "start_time": "2021-09-16T17:49:57.678Z"
   },
   {
    "duration": 250,
    "start_time": "2021-09-16T17:49:58.449Z"
   },
   {
    "duration": 10,
    "start_time": "2021-09-16T17:49:58.700Z"
   },
   {
    "duration": 773,
    "start_time": "2021-09-16T17:49:58.712Z"
   },
   {
    "duration": 31,
    "start_time": "2021-09-16T17:49:59.487Z"
   },
   {
    "duration": 143,
    "start_time": "2021-09-16T17:49:59.519Z"
   },
   {
    "duration": 3,
    "start_time": "2021-09-16T17:49:59.663Z"
   },
   {
    "duration": 12,
    "start_time": "2021-09-16T17:49:59.667Z"
   },
   {
    "duration": 20,
    "start_time": "2021-09-16T17:49:59.680Z"
   },
   {
    "duration": 4,
    "start_time": "2021-09-16T17:49:59.701Z"
   },
   {
    "duration": 241,
    "start_time": "2021-09-16T17:49:59.707Z"
   },
   {
    "duration": 299,
    "start_time": "2021-09-16T17:49:59.951Z"
   },
   {
    "duration": 4116,
    "start_time": "2021-09-16T17:50:00.252Z"
   },
   {
    "duration": 1185,
    "start_time": "2021-09-16T17:50:04.369Z"
   },
   {
    "duration": 22390,
    "start_time": "2021-09-16T17:50:05.559Z"
   },
   {
    "duration": 1003,
    "start_time": "2021-09-16T17:50:27.951Z"
   },
   {
    "duration": 4,
    "start_time": "2021-09-16T17:50:28.956Z"
   },
   {
    "duration": 15,
    "start_time": "2021-09-16T17:50:28.961Z"
   },
   {
    "duration": 3,
    "start_time": "2021-09-16T17:50:28.977Z"
   },
   {
    "duration": 19377,
    "start_time": "2021-09-16T17:50:28.982Z"
   }
  ],
  "kernelspec": {
   "display_name": "Python 3",
   "language": "python",
   "name": "python3"
  },
  "language_info": {
   "codemirror_mode": {
    "name": "ipython",
    "version": 3
   },
   "file_extension": ".py",
   "mimetype": "text/x-python",
   "name": "python",
   "nbconvert_exporter": "python",
   "pygments_lexer": "ipython3",
   "version": "3.8.8"
  },
  "toc": {
   "base_numbering": 1,
   "nav_menu": {},
   "number_sections": true,
   "sideBar": true,
   "skip_h1_title": true,
   "title_cell": "Содержание",
   "title_sidebar": "Contents",
   "toc_cell": true,
   "toc_position": {},
   "toc_section_display": true,
   "toc_window_display": false
  }
 },
 "nbformat": 4,
 "nbformat_minor": 2
}
